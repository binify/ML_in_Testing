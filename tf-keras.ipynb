{
 "cells": [
  {
   "cell_type": "code",
   "execution_count": 1,
   "metadata": {},
   "outputs": [
    {
     "name": "stderr",
     "output_type": "stream",
     "text": [
      "Using TensorFlow backend.\n"
     ]
    }
   ],
   "source": [
    "import numpy as np\n",
    "import pandas as pd\n",
    "\n",
    "from keras.models import Sequential, Model, model_from_json\n",
    "from app import *\n",
    "from keras.layers import Dense, Input\n",
    "from keras.wrappers.scikit_learn import KerasRegressor\n",
    "from keras.optimizers import RMSprop, Adam\n",
    "\n",
    "from sklearn.model_selection import train_test_split\n",
    "from sklearn.model_selection import cross_val_score\n",
    "from sklearn.model_selection import KFold\n",
    "from sklearn.preprocessing import StandardScaler\n",
    "from sklearn.pipeline import Pipeline\n",
    "from sklearn.metrics import accuracy_score, mean_squared_error, confusion_matrix, precision_score, recall_score"
   ]
  },
  {
   "cell_type": "code",
   "execution_count": 18,
   "metadata": {},
   "outputs": [],
   "source": [
    "df = pd.read_csv('train10K.csv')\n",
    "df = df[df['amount'] >0]\n",
    "\n",
    "train_set, test_set = train_test_split(df, test_size=0.15, random_state=42)\n",
    "\n",
    "y_train = train_set[[\"label\"]].copy()\n",
    "X_train = train_set.drop([\"approved\",\"amount\",\"label\"],axis=1)\n",
    "X_train = X_train.values.astype(np.float32)\n",
    "y_train = y_train.values.reshape(-1)\n",
    "\n",
    "y_test = test_set[[\"label\"]].copy()\n",
    "y_test = y_test.values.reshape(-1)\n",
    "X_test = test_set.drop([\"approved\",\"amount\",\"label\"],axis=1)\n",
    "X_test = X_test.values.astype(np.float32)\n",
    "\n",
    "X_valid, X_train = X_train[:1000], X_train[1000:]\n",
    "y_valid, y_train = y_train[:1000], y_train[1000:]"
   ]
  },
  {
   "cell_type": "code",
   "execution_count": 65,
   "metadata": {},
   "outputs": [],
   "source": [
    "from keras.utils import to_categorical\n",
    "\n",
    "#one-hot encode target column\n",
    "y_train_b = to_categorical(y_train)\n",
    "y_valid_b = to_categorical(y_valid)"
   ]
  },
  {
   "cell_type": "code",
   "execution_count": 44,
   "metadata": {},
   "outputs": [],
   "source": [
    "def clf_model():\n",
    "    model = Sequential()\n",
    "    model.add(Dense(100, input_dim=8, kernel_initializer='normal',activation='relu'))\n",
    "    model.add(Dense(50,kernel_initializer='normal',activation='relu'))\n",
    "    model.add(Dense(1,activation='sigmoid'))\n",
    "    \n",
    "    model.compile(loss='binary_crossentropy', optimizer='adam', metrics=['accuracy'])\n",
    "    return model"
   ]
  },
  {
   "cell_type": "code",
   "execution_count": 43,
   "metadata": {},
   "outputs": [],
   "source": [
    "def regression_model(EPOCHS, INIT_LR):\n",
    "    inputs = Input(shape=(8,))\n",
    "    x = Dense(300, kernel_initializer='normal',activation='relu')(inputs)\n",
    "    x = Dense(150,kernel_initializer='normal',activation='relu')(x)\n",
    "    y = Dense(10, activation='sigmoid')(x)\n",
    "    \n",
    "    model = Model(inputs=inputs,outputs=y)\n",
    "    opt = Adam(lr=INIT_LR, decay=INIT_LR / EPOCHS)\n",
    "    model.compile(loss='binary_crossentropy', optimizer=opt, metrics=['accuracy'])\n",
    "    return model"
   ]
  },
  {
   "cell_type": "code",
   "execution_count": 30,
   "metadata": {},
   "outputs": [],
   "source": [
    "seed = 7\n",
    "np.random.seed(seed)\n",
    "estimator = KerasRegressor(build_fn=clf_model,epochs=50,batch_size=50,verbose=0)"
   ]
  },
  {
   "cell_type": "code",
   "execution_count": 6,
   "metadata": {},
   "outputs": [],
   "source": [
    "kfold = KFold(n_splits=5, random_state=seed)\n",
    "result = cross_val_score(estimator,X_train,y_train,cv=kfold)\n",
    "scores = np.sqrt(-result)"
   ]
  },
  {
   "cell_type": "code",
   "execution_count": 7,
   "metadata": {},
   "outputs": [],
   "source": [
    "def score_show(scores):\n",
    "    print(\"Score: \",scores)\n",
    "    print(\"Mean: \", scores.mean())\n",
    "    print(\"Standard Deviation: \", scores.std())"
   ]
  },
  {
   "cell_type": "code",
   "execution_count": 9,
   "metadata": {},
   "outputs": [
    {
     "name": "stdout",
     "output_type": "stream",
     "text": [
      "Score:  [-0.02920458 -0.00394147 -0.00739842 -0.00449282 -0.00421797]\n",
      "Mean:  -0.00985105163427\n",
      "Standard Deviation:  0.00975643138532\n"
     ]
    }
   ],
   "source": [
    "score_show(result)"
   ]
  },
  {
   "cell_type": "code",
   "execution_count": 46,
   "metadata": {},
   "outputs": [
    {
     "name": "stdout",
     "output_type": "stream",
     "text": [
      "Train on 6000 samples, validate on 1500 samples\n",
      "Epoch 1/20\n",
      "6000/6000 [==============================] - 3s 511us/step - loss: 0.2198 - acc: 0.9240 - val_loss: 0.1623 - val_acc: 0.9349\n",
      "Epoch 2/20\n",
      "6000/6000 [==============================] - 1s 166us/step - loss: 0.1351 - acc: 0.9446 - val_loss: 0.1091 - val_acc: 0.9535\n",
      "Epoch 3/20\n",
      "6000/6000 [==============================] - 1s 166us/step - loss: 0.1032 - acc: 0.9548 - val_loss: 0.0961 - val_acc: 0.9598\n",
      "Epoch 4/20\n",
      "6000/6000 [==============================] - 1s 160us/step - loss: 0.0894 - acc: 0.9611 - val_loss: 0.0801 - val_acc: 0.9653\n",
      "Epoch 5/20\n",
      "6000/6000 [==============================] - 1s 158us/step - loss: 0.0770 - acc: 0.9666 - val_loss: 0.0764 - val_acc: 0.9689\n",
      "Epoch 6/20\n",
      "6000/6000 [==============================] - 1s 158us/step - loss: 0.0654 - acc: 0.9727 - val_loss: 0.0686 - val_acc: 0.9697\n",
      "Epoch 7/20\n",
      "6000/6000 [==============================] - 1s 159us/step - loss: 0.0576 - acc: 0.9761 - val_loss: 0.0525 - val_acc: 0.9803\n",
      "Epoch 8/20\n",
      "6000/6000 [==============================] - 1s 159us/step - loss: 0.0498 - acc: 0.9808 - val_loss: 0.0451 - val_acc: 0.9837\n",
      "Epoch 9/20\n",
      "6000/6000 [==============================] - 1s 161us/step - loss: 0.0478 - acc: 0.9805 - val_loss: 0.0403 - val_acc: 0.9865\n",
      "Epoch 10/20\n",
      "6000/6000 [==============================] - 1s 161us/step - loss: 0.0417 - acc: 0.9837 - val_loss: 0.0353 - val_acc: 0.9877\n",
      "Epoch 11/20\n",
      "6000/6000 [==============================] - 1s 161us/step - loss: 0.0368 - acc: 0.9861 - val_loss: 0.0312 - val_acc: 0.9887\n",
      "Epoch 12/20\n",
      "6000/6000 [==============================] - 1s 156us/step - loss: 0.0324 - acc: 0.9881 - val_loss: 0.0358 - val_acc: 0.9845\n",
      "Epoch 13/20\n",
      "6000/6000 [==============================] - 1s 162us/step - loss: 0.0293 - acc: 0.9891 - val_loss: 0.0245 - val_acc: 0.9923\n",
      "Epoch 14/20\n",
      "6000/6000 [==============================] - 1s 162us/step - loss: 0.0283 - acc: 0.9893 - val_loss: 0.0279 - val_acc: 0.9904\n",
      "Epoch 15/20\n",
      "6000/6000 [==============================] - 1s 162us/step - loss: 0.0250 - acc: 0.9909 - val_loss: 0.0201 - val_acc: 0.9941\n",
      "Epoch 16/20\n",
      "6000/6000 [==============================] - 1s 161us/step - loss: 0.0217 - acc: 0.9926 - val_loss: 0.0214 - val_acc: 0.9925\n",
      "Epoch 17/20\n",
      "6000/6000 [==============================] - 1s 158us/step - loss: 0.0206 - acc: 0.9928 - val_loss: 0.0236 - val_acc: 0.9920\n",
      "Epoch 18/20\n",
      "6000/6000 [==============================] - 1s 160us/step - loss: 0.0189 - acc: 0.9934 - val_loss: 0.0212 - val_acc: 0.9917\n",
      "Epoch 19/20\n",
      "6000/6000 [==============================] - 1s 158us/step - loss: 0.0176 - acc: 0.9939 - val_loss: 0.0162 - val_acc: 0.9947\n",
      "Epoch 20/20\n",
      "6000/6000 [==============================] - 1s 157us/step - loss: 0.0185 - acc: 0.9933 - val_loss: 0.0148 - val_acc: 0.9958\n"
     ]
    }
   ],
   "source": [
    "EPOCHS = 20\n",
    "INIT_LR = 1e-3\n",
    "BS = 32\n",
    "model = regression_model(EPOCHS, INIT_LR)\n",
    "history = model.fit(X_train, y_train_b, epochs=EPOCHS,batch_size=BS,validation_split=0.2)"
   ]
  },
  {
   "cell_type": "code",
   "execution_count": 62,
   "metadata": {},
   "outputs": [
    {
     "data": {
      "image/png": "[encoded data removed]",
      "text/plain": [
       "<Figure size 432x288 with 1 Axes>"
      ]
     },
     "metadata": {
      "needs_background": "light"
     },
     "output_type": "display_data"
    }
   ],
   "source": [
    "fig = plt.figure()\n",
    "plt.plot(history.history['loss'],label='train_loss')\n",
    "plt.plot(history.history['val_loss'],label='validate_loss')\n",
    "plt.plot(history.history['acc'],label='train_accuracy')\n",
    "plt.plot(history.history['val_acc'],label='validate_accuracy')\n",
    "plt.xticks(np.arange(0, 20, step=2))\n",
    "plt.yticks(np.arange(0, 1.1, step=0.2))\n",
    "plt.grid(True)\n",
    "plt.xlabel('Epoch #')\n",
    "plt.ylabel(\"Loss/Accuracy\")\n",
    "plt.legend()\n",
    "plt.xlabel('Epochs')\n",
    "plt.ylabel('Loss')\n",
    "plt.savefig('cont.jpg')\n",
    "plt.show()"
   ]
  },
  {
   "cell_type": "code",
   "execution_count": 99,
   "metadata": {},
   "outputs": [],
   "source": [
    "y_pred = model.predict(X_valid)"
   ]
  },
  {
   "cell_type": "code",
   "execution_count": 100,
   "metadata": {},
   "outputs": [],
   "source": [
    "y_pred = [np.argmax(i) for i in y_pred] "
   ]
  },
  {
   "cell_type": "code",
   "execution_count": 102,
   "metadata": {},
   "outputs": [
    {
     "data": {
      "text/plain": [
       "[0.016582960650324823, 0.9945999927520752]"
      ]
     },
     "execution_count": 102,
     "metadata": {},
     "output_type": "execute_result"
    }
   ],
   "source": [
    "model.evaluate(X_valid,y_valid_b,verbose=0)"
   ]
  },
  {
   "cell_type": "code",
   "execution_count": 103,
   "metadata": {},
   "outputs": [
    {
     "name": "stdout",
     "output_type": "stream",
     "text": [
      "Saved model to disk\n"
     ]
    }
   ],
   "source": [
    "# serialize model to JSON\n",
    "model_json = model.to_json()\n",
    "with open(\"model.json\", \"w\") as json_file:\n",
    "    json_file.write(model_json)\n",
    "# serialize weights to HDF5\n",
    "model.save_weights(\"model.h5\")\n",
    "print(\"Saved model to disk\")   "
   ]
  },
  {
   "cell_type": "code",
   "execution_count": 2,
   "metadata": {},
   "outputs": [
    {
     "name": "stdout",
     "output_type": "stream",
     "text": [
      "WARNING:tensorflow:From C:\\Users\\thanh\\Miniconda3\\envs\\datasci\\lib\\site-packages\\tensorflow\\python\\framework\\op_def_library.py:263: colocate_with (from tensorflow.python.framework.ops) is deprecated and will be removed in a future version.\n",
      "Instructions for updating:\n",
      "Colocations handled automatically by placer.\n",
      "Loaded model from disk\n"
     ]
    },
    {
     "data": {
      "text/plain": [
       "155.87774464369173"
      ]
     },
     "execution_count": 15,
     "metadata": {},
     "output_type": "execute_result"
    }
   ],
   "source": [
    "json_file = open('model.json', 'r')\n",
    "loaded_model_json = json_file.read()\n",
    "json_file.close()\n",
    "model = model_from_json(loaded_model_json)\n",
    "# load weights into new model\n",
    "model.load_weights(\"model.h5\")\n",
    "print(\"Loaded model from disk\")\n",
    "\n",
    "df = pd.read_csv('test5K.csv')\n",
    "\n",
    "y = df[[\"label\"]].copy()\n",
    "y = y.values.reshape(-1)\n",
    "\n",
    "X = df.drop([\"approved\", \"amount\", \"label\"], axis=1)\n",
    "X = X.values.astype(np.float32)\n",
    "\n",
    "y_pred = model.predict(X)\n",
    "y_pred = [np.argmax(i) for i in y_pred]\n",
    "\n",
    "print(accuracy_score(y,y_pred))"
   ]
  },
  {
   "cell_type": "code",
   "execution_count": 20,
   "metadata": {},
   "outputs": [
    {
     "data": {
      "text/plain": [
       "array([[2004,    1,    8,    0,    6,    6,    3,    2,    1],\n",
       "       [   5,  410,    3,    0,    0,    0,    0,    0,    0],\n",
       "       [   0,    0, 1074,    0,    0,    0,    0,    0,    0],\n",
       "       [   1,    0,    0,  261,    6,    0,    0,    0,    0],\n",
       "       [   1,    0,    0,   11,  450,   17,    0,    0,    0],\n",
       "       [   2,    0,    0,    0,    0,  394,    0,    0,    0],\n",
       "       [   2,    0,    0,    0,    0,    6,  168,    0,    0],\n",
       "       [   3,    0,    0,    0,    0,    0,    0,   74,    2],\n",
       "       [   0,    0,    0,    0,    0,    0,    0,    0,   79]],\n",
       "      dtype=int64)"
      ]
     },
     "execution_count": 20,
     "metadata": {},
     "output_type": "execute_result"
    }
   ],
   "source": [
    "confusion_matrix(y,y_pred)"
   ]
  },
  {
   "cell_type": "code",
   "execution_count": 28,
   "metadata": {},
   "outputs": [],
   "source": [
    "def result(y_amount_bug):\n",
    "    y_bug = [label(i) for i in y_amount_bug]\n",
    "    \n",
    "    bug_real = [i == j for i, j in zip(y, y_bug)]\n",
    "    bug_pred = [compare(i, j, 0.05, 0.95) for i, j in zip(y_pred, y_bug)]\n",
    "\n",
    "    cm = confusion_matrix(bug_real,bug_pred)\n",
    "    print(cm)\n",
    "    row_sums = cm.sum(axis=1, keepdims=True)\n",
    "    norm = cm/row_sums\n",
    "\n",
    "    a = norm[0][1]*100\n",
    "    b = norm[1][0]*100\n",
    "    c = 100*(cm[0][2]+cm[1][2])/5000\n",
    "    print(\"{0:.2f}  {1:.2f}, {2:.2f}\".format(a, b, c))    "
   ]
  },
  {
   "cell_type": "code",
   "execution_count": 29,
   "metadata": {},
   "outputs": [
    {
     "name": "stdout",
     "output_type": "stream",
     "text": [
      "[[   0    3  104]\n",
      " [   0 4811   82]\n",
      " [   0    0    0]]\n",
      "2.80  0.00, 3.72\n"
     ]
    },
    {
     "name": "stderr",
     "output_type": "stream",
     "text": [
      "C:\\Users\\thanh\\Miniconda3\\envs\\datasci\\lib\\site-packages\\ipykernel_launcher.py:10: RuntimeWarning: invalid value encountered in true_divide\n",
      "  # Remove the CWD from sys.path while we load stuff.\n"
     ]
    }
   ],
   "source": [
    "y_amount_bug = [credit_approval_bug_21(*s.astype(np.int64))[1] for s in X]\n",
    "y_bug = [label(i) for i in y_amount_bug]\n",
    "result(y_amount_bug)"
   ]
  },
  {
   "cell_type": "code",
   "execution_count": 8,
   "metadata": {},
   "outputs": [
    {
     "name": "stderr",
     "output_type": "stream",
     "text": [
      "C:\\Users\\thanh\\Miniconda3\\envs\\datasci\\lib\\site-packages\\ipykernel_launcher.py:9: RuntimeWarning: invalid value encountered in true_divide\n",
      "  if __name__ == '__main__':\n"
     ]
    },
    {
     "name": "stdout",
     "output_type": "stream",
     "text": [
      "15.58  0.02, 10.22\n",
      "14.73  0.03, 20.60\n",
      "14.67  0.03, 19.12\n",
      "14.49  0.04, 38.90\n",
      "15.17  0.00, 58.62\n",
      "16.48  0.02, 4.98\n",
      "0.10  0.05, 59.82\n",
      "48.00  0.03, 15.86\n",
      "47.85  0.02, 2.26\n",
      "53.67  0.02, 3.44\n",
      "52.74  0.02, 3.32\n",
      "56.20  0.02, 5.70\n",
      "99.63  0.02, 0.68\n",
      "100.00  0.02, 0.68\n",
      "100.00  0.02, 0.68\n",
      "100.00  0.02, 0.68\n",
      "99.17  0.02, 0.70\n",
      "100.00  0.02, 0.68\n",
      "100.00  0.02, 0.68\n",
      "100.00  0.02, 0.68\n",
      "99.07  0.02, 0.70\n"
     ]
    }
   ],
   "source": [
    "y_amount_bug = [credit_approval_bug_1(*s.astype(np.int64))[1] for s in X]\n",
    "result(y_amount_bug)\n",
    "y_amount_bug = [credit_approval_bug_2(*s.astype(np.int64))[1] for s in X]\n",
    "result(y_amount_bug)\n",
    "y_amount_bug = [credit_approval_bug_3(*s.astype(np.int64))[1] for s in X]\n",
    "result(y_amount_bug)\n",
    "y_amount_bug = [credit_approval_bug_4(*s.astype(np.int64))[1] for s in X]\n",
    "result(y_amount_bug)\n",
    "y_amount_bug = [credit_approval_bug_5(*s.astype(np.int64))[1] for s in X]\n",
    "result(y_amount_bug)\n",
    "y_amount_bug = [credit_approval_bug_6(*s.astype(np.int64))[1] for s in X]\n",
    "result(y_amount_bug)\n",
    "y_amount_bug = [credit_approval_bug_7(*s.astype(np.int64))[1] for s in X]\n",
    "result(y_amount_bug)\n",
    "y_amount_bug = [credit_approval_bug_8(*s.astype(np.int64))[1] for s in X]\n",
    "result(y_amount_bug)\n",
    "y_amount_bug = [credit_approval_bug_9(*s.astype(np.int64))[1] for s in X]\n",
    "result(y_amount_bug)\n",
    "y_amount_bug = [credit_approval_bug_10(*s.astype(np.int64))[1] for s in X]\n",
    "result(y_amount_bug)\n",
    "y_amount_bug = [credit_approval_bug_11(*s.astype(np.int64))[1] for s in X]\n",
    "result(y_amount_bug)\n",
    "y_amount_bug = [credit_approval_bug_12(*s.astype(np.int64))[1] for s in X]\n",
    "result(y_amount_bug)\n",
    "y_amount_bug = [credit_approval_bug_13(*s.astype(np.int64))[1] for s in X]\n",
    "result(y_amount_bug)\n",
    "y_amount_bug = [credit_approval_bug_14(*s.astype(np.int64))[1] for s in X]\n",
    "result(y_amount_bug)\n",
    "y_amount_bug = [credit_approval_bug_15(*s.astype(np.int64))[1] for s in X]\n",
    "result(y_amount_bug)\n",
    "y_amount_bug = [credit_approval_bug_16(*s.astype(np.int64))[1] for s in X]\n",
    "result(y_amount_bug)\n",
    "y_amount_bug = [credit_approval_bug_17(*s.astype(np.int64))[1] for s in X]\n",
    "result(y_amount_bug)\n",
    "y_amount_bug = [credit_approval_bug_18(*s.astype(np.int64))[1] for s in X]\n",
    "result(y_amount_bug)\n",
    "y_amount_bug = [credit_approval_bug_19(*s.astype(np.int64))[1] for s in X]\n",
    "result(y_amount_bug)\n",
    "y_amount_bug = [credit_approval_bug_20(*s.astype(np.int64))[1] for s in X]\n",
    "result(y_amount_bug)\n",
    "y_amount_bug = [credit_approval_bug_21(*s.astype(np.int64))[1] for s in X]\n",
    "result(y_amount_bug)"
   ]
  },
  {
   "cell_type": "code",
   "execution_count": null,
   "metadata": {},
   "outputs": [],
   "source": []
  }
 ],
 "metadata": {
  "kernelspec": {
   "display_name": "Python 3",
   "language": "python",
   "name": "python3"
  },
  "language_info": {
   "codemirror_mode": {
    "name": "ipython",
    "version": 3
   },
   "file_extension": ".py",
   "mimetype": "text/x-python",
   "name": "python",
   "nbconvert_exporter": "python",
   "pygments_lexer": "ipython3",
   "version": "3.6.7"
  }
 },
 "nbformat": 4,
 "nbformat_minor": 2
}
