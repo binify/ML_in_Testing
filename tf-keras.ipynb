{
 "cells": [
  {
   "cell_type": "code",
   "execution_count": 4,
   "metadata": {},
   "outputs": [],
   "source": [
    "import numpy as np\n",
    "import pandas as pd\n",
    "from keras.models import Sequential\n",
    "from keras.layers import Dense\n",
    "from keras.wrappers.scikit_learn import KerasRegressor\n",
    "from sklearn.model_selection import train_test_split\n",
    "from sklearn.model_selection import cross_val_score\n",
    "from sklearn.model_selection import KFold\n",
    "from sklearn.preprocessing import StandardScaler\n",
    "from sklearn.pipeline import Pipeline"
   ]
  },
  {
   "cell_type": "code",
   "execution_count": 43,
   "metadata": {},
   "outputs": [],
   "source": [
    "df = pd.read_csv('train10K.csv')\n",
    "\n",
    "train_set, test_set = train_test_split(df, test_size=0.15, random_state=42)\n",
    "\n",
    "y_train = train_set[[\"approved\"]].copy()\n",
    "X_train = train_set.drop([\"approved\",\"amount\",\"label\"],axis=1)\n",
    "X_train = X_train.values.astype(np.float32)\n",
    "y_train = y_train.values.reshape(-1)\n",
    "\n",
    "y_test = test_set[[\"approved\"]].copy()\n",
    "y_test = y_test.values.reshape(-1)\n",
    "X_test = test_set.drop([\"approved\",\"amount\",\"label\"],axis=1)\n",
    "X_test = X_test.values.astype(np.float32)\n",
    "\n",
    "X_valid, X_train = X_train[:1000], X_train[1000:]\n",
    "y_valid, y_train = y_train[:1000], y_train[1000:]"
   ]
  },
  {
   "cell_type": "code",
   "execution_count": 44,
   "metadata": {},
   "outputs": [],
   "source": [
    "def clf_model():\n",
    "    model = Sequential()\n",
    "    model.add(Dense(100, input_dim=8, kernel_initializer='normal',activation='relu'))\n",
    "    model.add(Dense(50,kernel_initializer='normal',activation='relu'))\n",
    "    model.add(Dense(1,activation='sigmoid'))\n",
    "    \n",
    "    model.compile(loss='binary_crossentropy', optimizer='adam', metrics=['accuracy'])\n",
    "    return model"
   ]
  },
  {
   "cell_type": "code",
   "execution_count": 30,
   "metadata": {},
   "outputs": [],
   "source": [
    "seed = 7\n",
    "np.random.seed(seed)\n",
    "estimator = KerasRegressor(build_fn=baseline_model, epochs=50,batch_size=50,verbose=0)"
   ]
  },
  {
   "cell_type": "code",
   "execution_count": 31,
   "metadata": {},
   "outputs": [],
   "source": [
    "kfold = KFold(n_splits=5, random_state=seed)\n",
    "result = cross_val_score(estimator,X_train,y_train,cv=kfold)\n",
    "scores = np.sqrt(-result)"
   ]
  },
  {
   "cell_type": "code",
   "execution_count": 32,
   "metadata": {},
   "outputs": [],
   "source": [
    "def score_show(scores):\n",
    "    print(\"Score: \",scores)\n",
    "    print(\"Mean: \", scores.mean())\n",
    "    print(\"Standard Deviation: \", scores.std())"
   ]
  },
  {
   "cell_type": "code",
   "execution_count": 33,
   "metadata": {},
   "outputs": [
    {
     "name": "stdout",
     "output_type": "stream",
     "text": [
      "Score:  [4448.92089912 4257.09305356 4312.49602898 4295.12955179 4322.66458719]\n",
      "Mean:  4327.260824129439\n",
      "Standard Deviation:  64.80159428028837\n"
     ]
    }
   ],
   "source": [
    "score_show(scores)"
   ]
  },
  {
   "cell_type": "code",
   "execution_count": 52,
   "metadata": {},
   "outputs": [
    {
     "name": "stdout",
     "output_type": "stream",
     "text": [
      "Train on 6000 samples, validate on 1500 samples\n",
      "Epoch 1/50\n",
      "6000/6000 [==============================] - 2s 267us/step - loss: 0.4423 - acc: 0.7902 - val_loss: 0.2977 - val_acc: 0.8720\n",
      "Epoch 2/50\n",
      "6000/6000 [==============================] - 0s 51us/step - loss: 0.2819 - acc: 0.8673 - val_loss: 0.2511 - val_acc: 0.8813\n",
      "Epoch 3/50\n",
      "6000/6000 [==============================] - 0s 55us/step - loss: 0.2372 - acc: 0.8900 - val_loss: 0.2048 - val_acc: 0.9100\n",
      "Epoch 4/50\n",
      "6000/6000 [==============================] - 0s 46us/step - loss: 0.2101 - acc: 0.9035 - val_loss: 0.1824 - val_acc: 0.9207\n",
      "Epoch 5/50\n",
      "6000/6000 [==============================] - 0s 47us/step - loss: 0.1798 - acc: 0.9193 - val_loss: 0.1749 - val_acc: 0.9147\n",
      "Epoch 6/50\n",
      "6000/6000 [==============================] - 0s 50us/step - loss: 0.1525 - acc: 0.9357 - val_loss: 0.1359 - val_acc: 0.9420\n",
      "Epoch 7/50\n",
      "6000/6000 [==============================] - 0s 46us/step - loss: 0.1291 - acc: 0.9498 - val_loss: 0.2034 - val_acc: 0.9033\n",
      "Epoch 8/50\n",
      "6000/6000 [==============================] - 0s 50us/step - loss: 0.1083 - acc: 0.9602 - val_loss: 0.0857 - val_acc: 0.9720\n",
      "Epoch 9/50\n",
      "6000/6000 [==============================] - 0s 52us/step - loss: 0.0820 - acc: 0.9797 - val_loss: 0.0719 - val_acc: 0.9867\n",
      "Epoch 10/50\n",
      "6000/6000 [==============================] - 0s 50us/step - loss: 0.0717 - acc: 0.9840 - val_loss: 0.0557 - val_acc: 0.9867\n",
      "Epoch 11/50\n",
      "6000/6000 [==============================] - 0s 48us/step - loss: 0.0497 - acc: 0.9922 - val_loss: 0.0408 - val_acc: 0.9907\n",
      "Epoch 12/50\n",
      "6000/6000 [==============================] - 0s 50us/step - loss: 0.0457 - acc: 0.9895 - val_loss: 0.0345 - val_acc: 0.9933\n",
      "Epoch 13/50\n",
      "6000/6000 [==============================] - 0s 57us/step - loss: 0.0369 - acc: 0.9930 - val_loss: 0.0290 - val_acc: 0.9960\n",
      "Epoch 14/50\n",
      "6000/6000 [==============================] - 0s 43us/step - loss: 0.0262 - acc: 0.9955 - val_loss: 0.0225 - val_acc: 0.9967\n",
      "Epoch 15/50\n",
      "6000/6000 [==============================] - 0s 46us/step - loss: 0.0249 - acc: 0.9952 - val_loss: 0.0202 - val_acc: 0.9973\n",
      "Epoch 16/50\n",
      "6000/6000 [==============================] - 0s 44us/step - loss: 0.0205 - acc: 0.9948 - val_loss: 0.0163 - val_acc: 0.9960\n",
      "Epoch 17/50\n",
      "6000/6000 [==============================] - 0s 43us/step - loss: 0.0180 - acc: 0.9955 - val_loss: 0.0174 - val_acc: 0.9960\n",
      "Epoch 18/50\n",
      "6000/6000 [==============================] - 0s 47us/step - loss: 0.0187 - acc: 0.9953 - val_loss: 0.0242 - val_acc: 0.9900\n",
      "Epoch 19/50\n",
      "6000/6000 [==============================] - 0s 45us/step - loss: 0.0137 - acc: 0.9973 - val_loss: 0.0120 - val_acc: 0.9980\n",
      "Epoch 20/50\n",
      "6000/6000 [==============================] - 0s 46us/step - loss: 0.0202 - acc: 0.9930 - val_loss: 0.0148 - val_acc: 0.9960\n",
      "Epoch 21/50\n",
      "6000/6000 [==============================] - 0s 44us/step - loss: 0.0134 - acc: 0.9963 - val_loss: 0.0106 - val_acc: 0.9987\n",
      "Epoch 22/50\n",
      "6000/6000 [==============================] - 0s 47us/step - loss: 0.0109 - acc: 0.9972 - val_loss: 0.0095 - val_acc: 0.9980\n",
      "Epoch 23/50\n",
      "6000/6000 [==============================] - 0s 51us/step - loss: 0.0108 - acc: 0.9965 - val_loss: 0.0091 - val_acc: 0.9973\n",
      "Epoch 24/50\n",
      "6000/6000 [==============================] - 0s 46us/step - loss: 0.0088 - acc: 0.9982 - val_loss: 0.0094 - val_acc: 0.9973\n",
      "Epoch 25/50\n",
      "6000/6000 [==============================] - 0s 45us/step - loss: 0.0133 - acc: 0.9955 - val_loss: 0.0095 - val_acc: 0.9967\n",
      "Epoch 26/50\n",
      "6000/6000 [==============================] - 0s 48us/step - loss: 0.0121 - acc: 0.9952 - val_loss: 0.0157 - val_acc: 0.9940\n",
      "Epoch 27/50\n",
      "6000/6000 [==============================] - 0s 46us/step - loss: 0.0154 - acc: 0.9930 - val_loss: 0.0092 - val_acc: 0.9973\n",
      "Epoch 28/50\n",
      "6000/6000 [==============================] - 0s 47us/step - loss: 0.0078 - acc: 0.9975 - val_loss: 0.0074 - val_acc: 0.9967\n",
      "Epoch 29/50\n",
      "6000/6000 [==============================] - 0s 45us/step - loss: 0.0065 - acc: 0.9983 - val_loss: 0.0059 - val_acc: 0.9993\n",
      "Epoch 30/50\n",
      "6000/6000 [==============================] - 0s 46us/step - loss: 0.0082 - acc: 0.9972 - val_loss: 0.0063 - val_acc: 0.9973\n",
      "Epoch 31/50\n",
      "6000/6000 [==============================] - 0s 47us/step - loss: 0.0110 - acc: 0.9960 - val_loss: 0.0066 - val_acc: 0.9993\n",
      "Epoch 32/50\n",
      "6000/6000 [==============================] - 0s 46us/step - loss: 0.0089 - acc: 0.9968 - val_loss: 0.0053 - val_acc: 1.0000\n",
      "Epoch 33/50\n",
      "6000/6000 [==============================] - 0s 44us/step - loss: 0.0075 - acc: 0.9973 - val_loss: 0.0055 - val_acc: 0.9980\n",
      "Epoch 34/50\n",
      "6000/6000 [==============================] - 0s 46us/step - loss: 0.0073 - acc: 0.9982 - val_loss: 0.0200 - val_acc: 0.9907\n",
      "Epoch 35/50\n",
      "6000/6000 [==============================] - 0s 44us/step - loss: 0.0089 - acc: 0.9963 - val_loss: 0.0189 - val_acc: 0.9920\n",
      "Epoch 36/50\n",
      "6000/6000 [==============================] - 0s 44us/step - loss: 0.0105 - acc: 0.9960 - val_loss: 0.0061 - val_acc: 0.9980\n",
      "Epoch 37/50\n",
      "6000/6000 [==============================] - 0s 45us/step - loss: 0.0066 - acc: 0.9983 - val_loss: 0.0041 - val_acc: 1.0000\n",
      "Epoch 38/50\n",
      "6000/6000 [==============================] - 0s 46us/step - loss: 0.0060 - acc: 0.9978 - val_loss: 0.0110 - val_acc: 0.9960\n",
      "Epoch 39/50\n",
      "6000/6000 [==============================] - 0s 44us/step - loss: 0.0067 - acc: 0.9978 - val_loss: 0.0044 - val_acc: 0.9993\n",
      "Epoch 40/50\n",
      "6000/6000 [==============================] - 0s 44us/step - loss: 0.0062 - acc: 0.9982 - val_loss: 0.0108 - val_acc: 0.9953\n",
      "Epoch 41/50\n",
      "6000/6000 [==============================] - 0s 44us/step - loss: 0.0060 - acc: 0.9978 - val_loss: 0.0074 - val_acc: 0.9973\n",
      "Epoch 42/50\n",
      "6000/6000 [==============================] - 0s 43us/step - loss: 0.0063 - acc: 0.9977 - val_loss: 0.0191 - val_acc: 0.9927\n",
      "Epoch 43/50\n",
      "6000/6000 [==============================] - 0s 44us/step - loss: 0.0044 - acc: 0.9990 - val_loss: 0.0062 - val_acc: 0.9973\n",
      "Epoch 44/50\n",
      "6000/6000 [==============================] - 0s 46us/step - loss: 0.0074 - acc: 0.9973 - val_loss: 0.0035 - val_acc: 1.0000\n",
      "Epoch 45/50\n",
      "6000/6000 [==============================] - 0s 43us/step - loss: 0.0047 - acc: 0.9987 - val_loss: 0.0041 - val_acc: 0.9993\n",
      "Epoch 46/50\n",
      "6000/6000 [==============================] - 0s 43us/step - loss: 0.0087 - acc: 0.9972 - val_loss: 0.0042 - val_acc: 0.9993\n",
      "Epoch 47/50\n",
      "6000/6000 [==============================] - 0s 45us/step - loss: 0.0040 - acc: 0.9990 - val_loss: 0.0036 - val_acc: 0.9993\n",
      "Epoch 48/50\n",
      "6000/6000 [==============================] - 0s 50us/step - loss: 0.0072 - acc: 0.9970 - val_loss: 0.0035 - val_acc: 0.9993\n",
      "Epoch 49/50\n",
      "6000/6000 [==============================] - 0s 46us/step - loss: 0.0243 - acc: 0.9910 - val_loss: 0.0893 - val_acc: 0.9560\n",
      "Epoch 50/50\n",
      "6000/6000 [==============================] - 0s 54us/step - loss: 0.0540 - acc: 0.9862 - val_loss: 0.0034 - val_acc: 1.0000\n"
     ]
    }
   ],
   "source": [
    "model = clf_model()\n",
    "history = model.fit(X_train, y_train, epochs=50,batch_size=50,validation_split=0.2)"
   ]
  },
  {
   "cell_type": "code",
   "execution_count": 53,
   "metadata": {},
   "outputs": [
    {
     "data": {
      "image/png": "[encoded data removed]",
      "text/plain": [
       "<Figure size 432x288 with 1 Axes>"
      ]
     },
     "metadata": {
      "needs_background": "light"
     },
     "output_type": "display_data"
    }
   ],
   "source": [
    "import matplotlib.pyplot as plt\n",
    "%matplotlib inline\n",
    "\n",
    "fig = plt.figure()\n",
    "plt.plot(history.history['loss'],label='train')\n",
    "plt.plot(history.history['val_loss'],label='validate')\n",
    "plt.legend()\n",
    "plt.show()"
   ]
  },
  {
   "cell_type": "code",
   "execution_count": 48,
   "metadata": {},
   "outputs": [
    {
     "name": "stdout",
     "output_type": "stream",
     "text": [
      "[[1.0], [0.0], [0.9998846054077148], [0.0], [1.0], [0.0], [0.0], [1.0], [1.5843278705218934e-28], [1.3127114846522847e-11]]\n"
     ]
    }
   ],
   "source": [
    "print(model.predict(X_valid[:10]).tolist())"
   ]
  },
  {
   "cell_type": "code",
   "execution_count": 49,
   "metadata": {},
   "outputs": [
    {
     "name": "stdout",
     "output_type": "stream",
     "text": [
      "[1 0 1 0 1 0 0 1 0 0]\n"
     ]
    }
   ],
   "source": [
    "print(y_valid[:10])"
   ]
  },
  {
   "cell_type": "code",
   "execution_count": null,
   "metadata": {},
   "outputs": [],
   "source": []
  }
 ],
 "metadata": {
  "kernelspec": {
   "display_name": "Python 3",
   "language": "python",
   "name": "python3"
  },
  "language_info": {
   "codemirror_mode": {
    "name": "ipython",
    "version": 3
   },
   "file_extension": ".py",
   "mimetype": "text/x-python",
   "name": "python",
   "nbconvert_exporter": "python",
   "pygments_lexer": "ipython3",
   "version": "3.6.8"
  }
 },
 "nbformat": 4,
 "nbformat_minor": 2
}
