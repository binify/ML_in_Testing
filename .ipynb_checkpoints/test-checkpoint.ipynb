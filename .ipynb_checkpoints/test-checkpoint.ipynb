{
 "cells": [
  {
   "cell_type": "code",
   "execution_count": 1,
   "metadata": {},
   "outputs": [],
   "source": [
    "import re\n",
    "\n",
    "def build_match_and_apply_functions(pattern, search, place):\n",
    "    def match_rules(word):\n",
    "        return re.search(pattern, word)\n",
    "    def apply_rule(word):\n",
    "        return re.sub(search, place, word)\n",
    "    return (match_rule, apply_rule)"
   ]
  },
  {
   "cell_type": "code",
   "execution_count": 2,
   "metadata": {},
   "outputs": [],
   "source": [
    "patterns =(\n",
    "('[sxz]$',           '$',  'es'),\n",
    "('[^aeioudgkprt]h$', '$',  'es'),\n",
    "('(qu|[^aeiou])y$',  'y$', 'ies'),\n",
    "('$',                '$',  's')\n",
    ")\n",
    "rules = [build_match_and_apply_functions(pattern, search, place) for pattern, search, place in patterns]"
   ]
  },
  {
   "cell_type": "code",
   "execution_count": 9,
   "metadata": {},
   "outputs": [],
   "source": [
    "def plural(noun):\n",
    "    for match_rule, apply_rule in rules:\n",
    "        if match_rule(noun):\n",
    "            return apply_rule(noun)"
   ]
  },
  {
   "cell_type": "code",
   "execution_count": 5,
   "metadata": {},
   "outputs": [],
   "source": [
    "def rules(rule_file):\n",
    "    with open(rule_file, encoding='utf8') as file:\n",
    "        for line in file:\n",
    "            pattern, search, place = line.split(None, 3)\n",
    "            yield build_match_and_apply_functions(pattern, search, place)\n",
    "            \n",
    "def plurals(none, rule_file):\n",
    "    for match_rule, apply_rule in rules(rule_file):\n",
    "        if match_rule(noun):\n",
    "            return apply_rule(noun)\n",
    "    raise ValueError('No matching rule for {}'.format(noun))"
   ]
  },
  {
   "cell_type": "code",
   "execution_count": 6,
   "metadata": {},
   "outputs": [],
   "source": [
    "def fib(max):\n",
    "    a, b = 0, 1\n",
    "    while a < max:\n",
    "        yield a\n",
    "        a,b = b, a+b"
   ]
  },
  {
   "cell_type": "code",
   "execution_count": 9,
   "metadata": {},
   "outputs": [],
   "source": [
    "counter = fib(100)"
   ]
  },
  {
   "cell_type": "code",
   "execution_count": 23,
   "metadata": {},
   "outputs": [
    {
     "data": {
      "text/plain": [
       "[0, 1, 1, 2, 3, 5, 8, 13, 21, 34]"
      ]
     },
     "execution_count": 23,
     "metadata": {},
     "output_type": "execute_result"
    }
   ],
   "source": [
    "list(fib(50))"
   ]
  },
  {
   "cell_type": "code",
   "execution_count": 6,
   "metadata": {},
   "outputs": [],
   "source": [
    "class Fib:\n",
    "    \"\"\"\n",
    "    Fibo\n",
    "    \"\"\"\n",
    "    \n",
    "    def __init__(self, max):\n",
    "        self.max = max\n",
    "        \n",
    "    def __iter__(self):\n",
    "        self.a = 0\n",
    "        self.b = 1\n",
    "        return self\n",
    "        \n",
    "    def __next__(self):\n",
    "        fib = self.a\n",
    "        if fib > self.max:\n",
    "            raise StopIteration\n",
    "        self.a, self.b = self.b, self.a + self.b\n",
    "        return fib     \n",
    "    "
   ]
  },
  {
   "cell_type": "code",
   "execution_count": 8,
   "metadata": {},
   "outputs": [],
   "source": [
    "t = Fib(100)"
   ]
  },
  {
   "cell_type": "code",
   "execution_count": 16,
   "metadata": {},
   "outputs": [
    {
     "data": {
      "text/plain": [
       "2"
      ]
     },
     "execution_count": 16,
     "metadata": {},
     "output_type": "execute_result"
    }
   ],
   "source": [
    "next(t)"
   ]
  },
  {
   "cell_type": "code",
   "execution_count": 4,
   "metadata": {},
   "outputs": [
    {
     "data": {
      "text/plain": [
       "[('A', 'B'), ('A', 'C'), ('B', 'A'), ('B', 'C'), ('C', 'A'), ('C', 'B')]"
      ]
     },
     "execution_count": 4,
     "metadata": {},
     "output_type": "execute_result"
    }
   ],
   "source": [
    "import itertools\n",
    "list(itertools.permutations('ABC',2))"
   ]
  },
  {
   "cell_type": "code",
   "execution_count": 5,
   "metadata": {},
   "outputs": [
    {
     "data": {
      "text/plain": [
       "[('A', '1'), ('A', '2'), ('B', '1'), ('B', '2'), ('C', '1'), ('C', '2')]"
      ]
     },
     "execution_count": 5,
     "metadata": {},
     "output_type": "execute_result"
    }
   ],
   "source": [
    "list(itertools.product('ABC','12'))"
   ]
  },
  {
   "cell_type": "code",
   "execution_count": 7,
   "metadata": {},
   "outputs": [
    {
     "data": {
      "text/plain": [
       "['Cuc', 'Van', 'Son', 'Binh', 'Phuong', 'Trung Anh']"
      ]
     },
     "execution_count": 7,
     "metadata": {},
     "output_type": "execute_result"
    }
   ],
   "source": [
    "names = ['Binh', 'Phuong', 'Cuc', 'Van', 'Trung Anh', 'Son']\n",
    "names = sorted(names, key=len)\n",
    "names"
   ]
  },
  {
   "cell_type": "code",
   "execution_count": 17,
   "metadata": {},
   "outputs": [
    {
     "data": {
      "text/plain": [
       "<itertools.groupby at 0x29381ba87c8>"
      ]
     },
     "execution_count": 17,
     "metadata": {},
     "output_type": "execute_result"
    }
   ],
   "source": [
    "groups = itertools.groupby(names, len)\n",
    "groups"
   ]
  },
  {
   "cell_type": "code",
   "execution_count": 9,
   "metadata": {},
   "outputs": [
    {
     "data": {
      "text/plain": [
       "[(3, <itertools._grouper at 0x29381ba59e8>),\n",
       " (4, <itertools._grouper at 0x29381ba5b38>),\n",
       " (6, <itertools._grouper at 0x29381ba54a8>),\n",
       " (9, <itertools._grouper at 0x29381ba5198>)]"
      ]
     },
     "execution_count": 9,
     "metadata": {},
     "output_type": "execute_result"
    }
   ],
   "source": [
    "list(groups)"
   ]
  },
  {
   "cell_type": "code",
   "execution_count": 19,
   "metadata": {},
   "outputs": [
    {
     "name": "stdout",
     "output_type": "stream",
     "text": [
      "Group 3 character in name:\n",
      "Cuc\n",
      "Van\n",
      "Son\n",
      "Group 4 character in name:\n",
      "Binh\n",
      "Group 6 character in name:\n",
      "Phuong\n",
      "Group 9 character in name:\n",
      "Trung Anh\n"
     ]
    }
   ],
   "source": [
    "groups = itertools.groupby(names, len)\n",
    "for len_, names_iter in groups:\n",
    "    print (\"Group {} character in name:\".format(len_))\n",
    "    for n in names_iter:\n",
    "        print (n)"
   ]
  },
  {
   "cell_type": "code",
   "execution_count": 20,
   "metadata": {},
   "outputs": [
    {
     "data": {
      "text/plain": [
       "{'D': '3',\n",
       " 'E': '0',\n",
       " 'M': '2',\n",
       " 'N': '5',\n",
       " 'O': '4',\n",
       " 'R': '6',\n",
       " 'S': '1',\n",
       " 'Y': '7'}"
      ]
     },
     "execution_count": 20,
     "metadata": {},
     "output_type": "execute_result"
    }
   ],
   "source": [
    "char = ('S', 'M', 'E', 'D', 'O', 'N', 'R', 'Y')\n",
    "guess = ('1', '2', '0', '3', '4', '5', '6', '7')\n",
    "\n",
    "dict(zip(char,guess))"
   ]
  },
  {
   "cell_type": "code",
   "execution_count": 4,
   "metadata": {},
   "outputs": [],
   "source": [
    "a = [4640800,4638905,4638204,4640005,4639003,4640708,4640607,4641005,4640834,4641138,4641346,4640848,4638849,4636841,4639136,4640655,4638237,4637844,4640143,4637141,4641139,4641052,4638637,4637547,4640537,4638741,4640849,4637326,4639349,4640353,4640143,4636645,4639636,4638849,4637142,4638351,4636844,4641244,4641054,4637329,4637741,4640240,4640355,4640429,4639953,4640851,4638550,4639255,4639638,4638937,4638144,4639139,4638638,4640046,4638239,4639747,4637849,4639848]\n",
    "b = set(sorted(a))"
   ]
  },
  {
   "cell_type": "code",
   "execution_count": 2,
   "metadata": {},
   "outputs": [
    {
     "ename": "ImportError",
     "evalue": "No module named 'beautifulsoup4'",
     "output_type": "error",
     "traceback": [
      "\u001b[1;31m---------------------------------------------------------------------------\u001b[0m",
      "\u001b[1;31mImportError\u001b[0m                               Traceback (most recent call last)",
      "\u001b[1;32m<ipython-input-2-e646caa245dd>\u001b[0m in \u001b[0;36m<module>\u001b[1;34m\u001b[0m\n\u001b[1;32m----> 1\u001b[1;33m \u001b[1;32mimport\u001b[0m \u001b[0mbeautifulsoup4\u001b[0m\u001b[1;33m\u001b[0m\u001b[0m\n\u001b[0m",
      "\u001b[1;31mImportError\u001b[0m: No module named 'beautifulsoup4'"
     ]
    }
   ],
   "source": [
    "import beautifulsoup4\n"
   ]
  },
  {
   "cell_type": "code",
   "execution_count": 3,
   "metadata": {},
   "outputs": [],
   "source": [
    "import requests\n",
    "\n",
    "url = 'https://twpro.jp/a/18'\n",
    "\n",
    "response = requests.get(url)\n",
    "html = response.text"
   ]
  },
  {
   "cell_type": "code",
   "execution_count": 12,
   "metadata": {},
   "outputs": [],
   "source": [
    "from bs4 import BeautifulSoup\n",
    "\n",
    "soup = BeautifulSoup(html, 'html5lib')"
   ]
  },
  {
   "cell_type": "code",
   "execution_count": 34,
   "metadata": {},
   "outputs": [
    {
     "data": {
      "text/plain": [
       "[]"
      ]
     },
     "execution_count": 34,
     "metadata": {},
     "output_type": "execute_result"
    }
   ],
   "source": [
    "soup.find_all(\"user\")"
   ]
  },
  {
   "cell_type": "code",
   "execution_count": 31,
   "metadata": {},
   "outputs": [
    {
     "data": {
      "text/plain": [
       "[<div class=\"scoped\" id=\"base\"><div id=\"main\"><div id=\"header\"><h1 id=\"logo\"><a class=\"img\" href=\"/\"><img alt=\"ツイプロ\" src=\"/static/images/logo/twpro2_min.png\"/></a><a class=\"title scope\" href=\"/a/18\">18歳版</a></h1><script>twpro.onload.push(function(){\n",
       " try{\n",
       " var target = $('#logo a.title');\n",
       " var base = target.offsetParent();\n",
       " var w0 = null, R = (base.width() + base.offset().left)*(1 - 0.01);\n",
       " var adjust = function(n){\n",
       "   var w = target.width();\n",
       "   var right = target.offset().left + w;\n",
       "   var s = parseInt(target.css('font-size'));\n",
       "   if(w0 == null) w0 = w;\n",
       "   if(right > R){\n",
       "     s -= Math.max(s*0.03, 1);\n",
       "     if(s <= 0 || n == 0) return;\n",
       "     target.css({cssText: 'font-size:' + s + 'px !important'});\n",
       "     adjust(n - 1);\n",
       "   }else if(n < 30){\n",
       "     var t = 'scale(1,' + (w0/w).toFixed(3) + ') !important;';\n",
       "     target.css({'cssText': 'display:inline-block !important;' +\n",
       "       'transform:' + t + '-ms-transform:' + t + '-webkit-transform:' + t +\n",
       "       '-o-transform:' + t + '-moz-transform:' + t +\n",
       "       'font-size:' + twpro.px(s) + ' !important;'});\n",
       "   }\n",
       " };\n",
       " adjust(30);\n",
       " }catch(e){twpro.report(e)}\n",
       " })</script><div class=\"header-end\"><!----></div></div><div id=\"body\"><div class=\"breadcrumb\"><span class=\"item\" itemscope=\"\" itemtype=\"http://data-vocabulary.org/Breadcrumb\"><a class=\"last_3\" href=\"/a\" itemprop=\"url\"><span itemprop=\"title\">年齢別(3,051,425)</span></a> <span class=\"last_2\">»</span> </span> <span class=\"item\" itemscope=\"\" itemtype=\"http://data-vocabulary.org/Breadcrumb\"><a class=\"last_2\" href=\"/a/1\" itemprop=\"url\"><span itemprop=\"title\">10〜19歳(1,091,128)</span></a> <span class=\"last_1\">»</span> </span> <span class=\"item\" itemscope=\"\" itemtype=\"http://data-vocabulary.org/Breadcrumb\"><a class=\"last_1\" href=\"/a/18\" itemprop=\"url\"><span itemprop=\"title\">18歳(116,086)</span></a></span> </div><div class=\"content\" id=\"search_form\"><h2 class=\"lead\">18歳のTwitterユーザのプロフィールを快適検索！</h2><form action=\"/a/18/search\" method=\"get\"><div class=\"header\"><div class=\"keyword-label\">キーワード:</div><div class=\"options\"><input id=\"inv\" name=\"inv\" type=\"checkbox\"/><label for=\"inv\">逆順に検索する</label></div><div class=\"submit\"><input id=\"go\" type=\"submit\" value=\"検索\"/></div></div><div class=\"keyword\"><input autocapitalize=\"off\" autocomplete=\"off\" autocorrect=\"off\" id=\"word\" name=\"word\" size=\"60\" type=\"text\"/></div><noscript>&lt;input id=\"nojs\" name=\"nojs\" type=\"hidden\" value=\"1\"&gt;</noscript><div class=\"keyword-help\">スペースで区切るとAND検索になります</div></form></div><script>twpro.onload.push(function(){\n",
       " try{\n",
       " $('#word').keydown(function(e){\n",
       "   if (e.keyCode == 13) {\n",
       "     $(\"#go\").click();\n",
       "     return false;\n",
       "   }\n",
       " });\n",
       " if(twpro.getParam('inv') == 'on'){\n",
       "   $('#search_form #inv').attr('checked', true);\n",
       " }\n",
       " }catch(e){twpro.report(e)}\n",
       " })</script><script>twpro.onload.push(function(){\n",
       " try{\n",
       " twpro.focus($('#word'));\n",
       " }catch(e){twpro.report(e)}\n",
       " })</script><div class=\"ads-banner-box resp head\"><style type=\"text/css\"> #ad_ins_1{width:728px;height:90px;margin:auto;}\n",
       " @media screen and (max-width:61.249em){ #ad_ins_1{width:100%;height:100px;}}\n",
       " @media screen and (max-width:61.249em) and (min-width:320px) and (max-width:480px){\n",
       "    #ad_ins_1{width:320px;height:100px;margin:auto;}}\n",
       " @media screen and (max-width:61.249em) and (min-width:40em) and (min-height:30em) and (max-width:768px){ #ad_ins_1{\n",
       "   width:320px;height:100px;margin:auto;}}</style><div class=\"ads-by l on-resp\">スポンサーリンク</div><div class=\"ads-by l no-resp\">広告</div><div class=\"ads-banner\"><script async=\"\" src=\"https://pagead2.googlesyndication.com/pagead/js/adsbygoogle.js\"></script><ins class=\"adsbygoogle\" data-ad-client=\"ca-pub-0111127737795787\" data-ad-region=\"Search\" data-ad-slot=\"3630670013\" id=\"ad_ins_1\" style=\"display:block\"></ins><script>(adsbygoogle = window.adsbygoogle || []).push({});</script></div></div><div id=\"users\"><div class=\"info\"><div class=\"page\"><span class=\"time\">全 116193 件中の 1位 〜 20位</span><a href=\"https://twitter.com\" rel=\"nofollow\" target=\"_blank\"><img class=\"twitter\" src=\"/static/images/twitter.png?2\"/></a></div><div class=\"action\"><a href=\"/a/18/expires\" rel=\"nofollow\">更新する</a></div><div class=\"info-end\"><!----></div></div><div class=\"users\" id=\"users-1\"><div class=\"user\"><div class=\"face\"><img data-sn=\"MINAMI373HAMABE\" onerror=\"twpro.errorFace(this)\" src=\"https://pbs.twimg.com/profile_images/1068457755768311808/YyfkGeb7_reasonably_small.jpg\"/></div><div class=\"main\"><div class=\"head\"><div class=\"menu\"><span class=\"badge\"><img alt=\"認証済みユーザー\" height=\"16\" src=\"/static/images/verified.png\" title=\"認証済みユーザー\" width=\"16\"/></span><span class=\"actions empty\" id=\"978442914693959680\"><a class=\"follow\" href=\"/home/follow/MINAMI373HAMABE\" rel=\"nofollow\" target=\"_blank\">フォローする</a></span></div><div class=\"meta\"><a class=\"name\" href=\"/MINAMI373HAMABE\" name=\"浜辺美波\" target=\"_blank\"><span>浜辺美波</span> <span>@MINAMI373HAMABE</span></a><span class=\"paren\">[]</span><span>497594</span><span class=\"no-resp\">人がフォロー</span><span class=\"on-resp\">人</span></div></div><div class=\"body\">浜辺美波official account／東宝芸能所属／18歳/「賭ケグルイ」ドラマseason２、映画が2019年に公開！／2019年公開『アルキメデスの大戦』『屍人荘の殺人』出演！ OFFICIAL SITEもチェックしてみてくださいね☺<a href=\"/J?to=https%3A%2F%2Fminamihamabe.futureartist.net\" rel=\"nofollow\" target=\"_blank\">https://minamihamabe.futureartist.net</a></div></div> <div class=\"clear\"><!----></div> </div><div class=\"user\"><div class=\"face\"><img data-sn=\"syounen_t_sako\" onerror=\"twpro.errorFace(this)\" src=\"https://pbs.twimg.com/profile_images/962635869856268290/I_VgNrVf_reasonably_small.jpg\"/></div><div class=\"main\"><div class=\"head\"><div class=\"menu\"><span class=\"badge\"><img alt=\"認証済みユーザー\" height=\"16\" src=\"/static/images/verified.png\" title=\"認証済みユーザー\" width=\"16\"/></span><span class=\"actions empty\" id=\"523136880\"><a class=\"follow\" href=\"/home/follow/syounen_t_sako\" rel=\"nofollow\" target=\"_blank\">フォローする</a></span></div><div class=\"meta\"><a class=\"name\" href=\"/syounen_t_sako\" name=\"佐香智久（少年T）\" target=\"_blank\"><span>佐香智久（少年T）</span> <span>@syounen_t_sako</span></a><span class=\"paren\">[いえにいたい]</span><span>309648</span><span class=\"no-resp\">人がフォロー</span><span class=\"on-resp\">人</span></div></div><div class=\"body\">Tくんと呼ばれています。曲を作って歌います。声優。ホーリーピーク所属。18歳でした。特技は液晶保護フィルムを貼ること。「君と僕。」「絶園のテンペスト」「抱かれたい男１位に脅されています。」「夏目友人帳」「ポケットモンスター」 「メガネブ!」</div></div> <div class=\"clear\"><!----></div> </div><div class=\"user\"><div class=\"face\"><img data-sn=\"kirizaki_oyaji\" onerror=\"twpro.errorFace(this)\" src=\"https://pbs.twimg.com/profile_images/804677256501002240/advGGpe4_reasonably_small.jpg\"/></div><div class=\"main\"><div class=\"head\"><div class=\"menu\"><span class=\"badge\"></span><span class=\"actions empty\" id=\"745226168253583360\"><a class=\"follow\" href=\"/home/follow/kirizaki_oyaji\" rel=\"nofollow\" target=\"_blank\">フォローする</a></span></div><div class=\"meta\"><a class=\"name\" href=\"/kirizaki_oyaji\" name=\"桐崎の親父(KIRI..PAPA)✨😎\" target=\"_blank\"><span>桐崎の親父(KIRI..PAPA)✨😎</span> <span>@kirizaki_oyaji</span></a><span class=\"paren\">[日本 石川]</span><span>207266</span><span class=\"no-resp\">人がフォロー</span><span class=\"on-resp\">人</span></div></div><div class=\"body\">タンケッキーは、もう使わないであろう✨😎アカウントは、これ１つだ💫 このアイコンこけでぃっしゅさんに、描いて頂きました！幸せだ☆彡 昭和の香りがします。ファボは既読ですw/たまに、リプ辺/ヘッダーは18歳の俺！/インスタはこれ✨<a href=\"/J?to=http%3A%2F%2FInstagram.com%2Fkiripapa1230%2F\" rel=\"nofollow\" target=\"_blank\">http://Instagram.com/kiripapa1230/</a>フォローよろしくぅ！</div></div> <div class=\"clear\"><!----></div> </div><div class=\"user\"><div class=\"face\"><img data-sn=\"reipoyo_0411\" onerror=\"twpro.errorFace(this)\" src=\"https://pbs.twimg.com/profile_images/1078921452827533312/Gfw3bdfy_reasonably_small.jpg\"/></div><div class=\"main\"><div class=\"head\"><div class=\"menu\"><span class=\"badge\"><img alt=\"認証済みユーザー\" height=\"16\" src=\"/static/images/verified.png\" title=\"認証済みユーザー\" width=\"16\"/></span><span class=\"actions empty\" id=\"2364217764\"><a class=\"follow\" href=\"/home/follow/reipoyo_0411\" rel=\"nofollow\" target=\"_blank\">フォローする</a></span></div><div class=\"meta\"><a class=\"name\" href=\"/reipoyo_0411\" name=\"れいぽよ(土屋怜菜)\" target=\"_blank\"><span>れいぽよ(土屋怜菜)</span> <span>@reipoyo_0411</span></a><span class=\"paren\">[Popteen専属もでる♡]</span><span>203511</span><span class=\"no-resp\">人がフォロー</span><span class=\"on-resp\">人</span></div></div><div class=\"body\">A-LIGHT所属 JK3 18歳 初心を忘れずに。大切なぽよわー♡MyColor⇒濃い紫 お仕事のお問い合わせは☞info@ateamgroup.jp YouTube☞<a href=\"/J?to=http%3A%2F%2Furx3.nu%2FJrnh\" rel=\"nofollow\" target=\"_blank\">http://urx3.nu/Jrnh</a></div></div> <div class=\"clear\"><!----></div> </div><div class=\"user\"><div class=\"face\"><img data-sn=\"nakano_ena\" onerror=\"twpro.errorFace(this)\" src=\"https://pbs.twimg.com/profile_images/1048872150617051136/zAvI-Il-_reasonably_small.jpg\"/></div><div class=\"main\"><div class=\"head\"><div class=\"menu\"><span class=\"badge\"><img alt=\"認証済みユーザー\" height=\"16\" src=\"/static/images/verified.png\" title=\"認証済みユーザー\" width=\"16\"/></span><span class=\"actions empty\" id=\"740153360355975168\"><a class=\"follow\" href=\"/home/follow/nakano_ena\" rel=\"nofollow\" target=\"_blank\">フォローする</a></span></div><div class=\"meta\"><a class=\"name\" href=\"/nakano_ena\" name=\"ちゃんえな(中野恵那)\" target=\"_blank\"><span>ちゃんえな(中野恵那)</span> <span>@nakano_ena</span></a><span class=\"paren\">[]</span><span>164307</span><span class=\"no-resp\">人がフォロー</span><span class=\"on-resp\">人</span></div></div><div class=\"body\">Popteen専属もでる。JK3の18歳。 まいぺーすです。instagrm☞<a href=\"/J?to=http%3A%2F%2FInstagram.com%2Fnakano.ena\" rel=\"nofollow\" target=\"_blank\">http://Instagram.com/nakano.ena</a> お仕事のお問い合わせはこちら👉info@sgmedia.tokyo</div></div> <div class=\"clear\"><!----></div> </div><div class=\"user\"><div class=\"face\"><img data-sn=\"riko6622\" onerror=\"twpro.errorFace(this)\" src=\"https://pbs.twimg.com/profile_images/1084370038990135296/l1IxSJyb_reasonably_small.jpg\"/></div><div class=\"main\"><div class=\"head\"><div class=\"menu\"><span class=\"badge\"><img alt=\"認証済みユーザー\" height=\"16\" src=\"/static/images/verified.png\" title=\"認証済みユーザー\" width=\"16\"/></span><span class=\"actions empty\" id=\"2311744848\"><a class=\"follow\" href=\"/home/follow/riko6622\" rel=\"nofollow\" target=\"_blank\">フォローする</a></span></div><div class=\"meta\"><a class=\"name\" href=\"/riko6622\" name=\"りこ\" target=\"_blank\"><span>りこ</span> <span>@riko6622</span></a><span class=\"paren\">[三重]</span><span>157448</span><span class=\"no-resp\">人がフォロー</span><span class=\"on-resp\">人</span></div></div><div class=\"body\">SonyMusicArtists | 18歳 | 双子の妹です | はじめてのスタイルブック「<a href=\"/hash/%E3%82%8A%E3%81%8B%E3%82%8A%E3%81%93\" target=\"_blank\">#りかりこ</a>」全国の書店・Amazonで発売中 🍒【Instagram】<a href=\"/J?to=http%3A%2F%2FInstagram.com%2Friko_ichino\" rel=\"nofollow\" target=\"_blank\">http://Instagram.com/riko_ichino</a> 【<a href=\"/exrikariko\" target=\"_blank\">@exrikariko</a>】</div></div> <div class=\"clear\"><!----></div> </div><div class=\"user\"><div class=\"face\"><img data-sn=\"pp_m1216\" onerror=\"twpro.errorFace(this)\" src=\"https://pbs.twimg.com/profile_images/1080056407066501121/_2M0EUo5_reasonably_small.jpg\"/></div><div class=\"main\"><div class=\"head\"><div class=\"menu\"><span class=\"badge\"></span><span class=\"actions empty\" id=\"801818225017167873\"><a class=\"follow\" href=\"/home/follow/pp_m1216\" rel=\"nofollow\" target=\"_blank\">フォローする</a></span></div><div class=\"meta\"><a class=\"name\" href=\"/pp_m1216\" name=\"伊藤 桃々\" target=\"_blank\"><span>伊藤 桃々</span> <span>@pp_m1216</span></a><span class=\"paren\">[プラチナムプロダクション所属]</span><span>131831</span><span class=\"no-resp\">人がフォロー</span><span class=\"on-resp\">人</span></div></div><div class=\"body\">高校3年生 18歳 egg専属モデル 白ギャル</div></div> <div class=\"clear\"><!----></div> </div><div class=\"user\"><div class=\"face\"><img data-sn=\"Yooshiakiii\" onerror=\"twpro.errorFace(this)\" src=\"https://pbs.twimg.com/profile_images/1026266137321824257/J1jlw6dV_reasonably_small.jpg\"/></div><div class=\"main\"><div class=\"head\"><div class=\"menu\"><span class=\"badge\"></span><span class=\"actions empty\" id=\"2698276440\"><a class=\"follow\" href=\"/home/follow/Yooshiakiii\" rel=\"nofollow\" target=\"_blank\">フォローする</a></span></div><div class=\"meta\"><a class=\"name\" href=\"/Yooshiakiii\" name=\"よしあき Yoshiaki\" target=\"_blank\"><span>よしあき Yoshiaki</span> <span>@Yooshiakiii</span></a><span class=\"paren\">[]</span><span>108957</span><span class=\"no-resp\">人がフォロー</span><span class=\"on-resp\">人</span></div></div><div class=\"body\">18歳男子・蛾が嫌いです・姉⇨<a href=\"/mi0306chi\" target=\"_blank\">@mi0306chi</a> ・INSTAR所属 お仕事のお問い合わせはysuzuki@tp-co.jp まで</div></div> <div class=\"clear\"><!----></div> </div><div class=\"user\"><div class=\"face\"><img data-sn=\"nokko_626\" onerror=\"twpro.errorFace(this)\" src=\"https://pbs.twimg.com/profile_images/948804876414328832/WmFxHsxo_reasonably_small.jpg\"/></div><div class=\"main\"><div class=\"head\"><div class=\"menu\"><span class=\"badge\"></span><span class=\"actions empty\" id=\"3181701626\"><a class=\"follow\" href=\"/home/follow/nokko_626\" rel=\"nofollow\" target=\"_blank\">フォローする</a></span></div><div class=\"meta\"><a class=\"name\" href=\"/nokko_626\" name=\"西山乃利子\" target=\"_blank\"><span>西山乃利子</span> <span>@nokko_626</span></a><span class=\"paren\">[神奈川]</span><span>89900</span><span class=\"no-resp\">人がフォロー</span><span class=\"on-resp\">人</span></div></div><div class=\"body\">高校3年生/たけのこの里派 【<a href=\"/J?to=https%3A%2F%2Fwww.youtube.com%2Fchannel%2FUCvlijdMzP2M2JlkiI8IEd8A\" rel=\"nofollow\" target=\"_blank\">https://www.youtube.com/channel/UCvlijdMzP2M2JlkiI8IEd8A</a>】</div></div> <div class=\"clear\"><!----></div> </div><div class=\"user\"><div class=\"face\"><img data-sn=\"Saku_s6\" onerror=\"twpro.errorFace(this)\" src=\"https://pbs.twimg.com/profile_images/1082487910471917568/n6r6262U_reasonably_small.jpg\"/></div><div class=\"main\"><div class=\"head\"><div class=\"menu\"><span class=\"badge\"></span><span class=\"actions empty\" id=\"4731396792\"><a class=\"follow\" href=\"/home/follow/Saku_s6\" rel=\"nofollow\" target=\"_blank\">フォローする</a></span></div><div class=\"meta\"><a class=\"name\" href=\"/Saku_s6\" name=\"関口 さくら\" target=\"_blank\"><span>関口 さくら</span> <span>@Saku_s6</span></a><span class=\"paren\">[Vithmic所属]</span><span>87806</span><span class=\"no-resp\">人がフォロー</span><span class=\"on-resp\">人</span></div></div><div class=\"body\">2000.6.6 🇵🇭×🇯🇵 フィリピンと日本のハーフ。、、高校三年生１８歳 ぽちゃ子🐷 小悪魔ageha専属モデル😈 <a href=\"/hash/%E5%B0%8F%E6%82%AA%E9%AD%94ageha\" target=\"_blank\">#小悪魔ageha</a> <a href=\"/hash/%E5%B0%8F%E6%82%AA%E9%AD%94%E3%82%AE%E3%83%A3%E3%83%AB\" target=\"_blank\">#小悪魔ギャル</a></div></div> <div class=\"clear\"><!----></div> </div><div class=\"ads-banner-box resp middle boxes\"><style type=\"text/css\">.no-resp #ad_ins_2 {width:336px;height:280px;}}\n",
       " @media screen and (max-width:61.249em){.no-resp #ad_ins_2 {display:none;}}</style><div class=\"ads-by l\">スポンサーリンク</div><div class=\"ads-banner\"><div class=\"ad first\"><script async=\"\" src=\"https://pagead2.googlesyndication.com/pagead/js/adsbygoogle.js\"></script><ins class=\"adsbygoogle\" data-ad-client=\"ca-pub-0111127737795787\" data-ad-format=\"auto\" data-ad-region=\"Search\" data-ad-slot=\"3630670013\" id=\"ad_ins_2\" style=\"display:block\"></ins><script>(adsbygoogle = window.adsbygoogle || []).push({});</script></div><div class=\"ad no-resp\"><script async=\"\" src=\"https://pagead2.googlesyndication.com/pagead/js/adsbygoogle.js\"></script><ins class=\"adsbygoogle\" data-ad-client=\"ca-pub-0111127737795787\" data-ad-region=\"Search\" data-ad-slot=\"3630670013\" id=\"ad_ins_2\" style=\"display:block\"></ins><script>(adsbygoogle = window.adsbygoogle || []).push({});</script></div><div class=\"ads-banner-end\"><!----></div></div></div><div class=\"user\"><div class=\"face\"><img data-sn=\"metxore\" onerror=\"twpro.errorFace(this)\" src=\"https://pbs.twimg.com/profile_images/1078945919695867904/Mv9jyDYv_reasonably_small.jpg\"/></div><div class=\"main\"><div class=\"head\"><div class=\"menu\"><span class=\"badge\"></span><span class=\"actions empty\" id=\"860028905247330304\"><a class=\"follow\" href=\"/home/follow/metxore\" rel=\"nofollow\" target=\"_blank\">フォローする</a></span></div><div class=\"meta\"><a class=\"name\" href=\"/metxore\" name=\"☆彡\" target=\"_blank\"><span>☆彡</span> <span>@metxore</span></a><span class=\"paren\">[]</span><span>81919</span><span class=\"no-resp\">人がフォロー</span><span class=\"on-resp\">人</span></div></div><div class=\"body\">18歳</div></div> <div class=\"clear\"><!----></div> </div><div class=\"user\"><div class=\"face\"><img data-sn=\"naenano78\" onerror=\"twpro.errorFace(this)\" src=\"https://pbs.twimg.com/profile_images/1082259108307206145/4QLTy1Ef_reasonably_small.jpg\"/></div><div class=\"main\"><div class=\"head\"><div class=\"menu\"><span class=\"badge\"></span><span class=\"actions empty\" id=\"2368691347\"><a class=\"follow\" href=\"/home/follow/naenano78\" rel=\"nofollow\" target=\"_blank\">フォローする</a></span></div><div class=\"meta\"><a class=\"name\" href=\"/naenano78\" name=\"なえなの🌨\" target=\"_blank\"><span>なえなの🌨</span> <span>@naenano78</span></a><span class=\"paren\">[好きなことして生きてゆく]</span><span>80472</span><span class=\"no-resp\">人がフォロー</span><span class=\"on-resp\">人</span></div></div><div class=\"body\">１８歳の顔面セルライトスペシャル</div></div> <div class=\"clear\"><!----></div> </div><div class=\"user\"><div class=\"face\"><img data-sn=\"Yu_u_sb\" onerror=\"twpro.errorFace(this)\" src=\"https://pbs.twimg.com/profile_images/1076744280583036929/mi8CmIJu_reasonably_small.jpg\"/></div><div class=\"main\"><div class=\"head\"><div class=\"menu\"><span class=\"badge\"></span><span class=\"actions empty\" id=\"2853349056\"><a class=\"follow\" href=\"/home/follow/Yu_u_sb\" rel=\"nofollow\" target=\"_blank\">フォローする</a></span></div><div class=\"meta\"><a class=\"name\" href=\"/Yu_u_sb\" name=\"ゆうぴーまん\" target=\"_blank\"><span>ゆうぴーまん</span> <span>@Yu_u_sb</span></a><span class=\"paren\">[]</span><span>79927</span><span class=\"no-resp\">人がフォロー</span><span class=\"on-resp\">人</span></div></div><div class=\"body\">高校3年生🗽食べることと旅行に行くことが好きで少しダンスが得意です🤷🏻‍♂️🍤YouTubeみてね(<a href=\"/PKA_123\" target=\"_blank\">@PKA_123</a>) 質問等があればリプにてお願い致します🙄📮随時友達募集中🤝(笑)</div></div> <div class=\"clear\"><!----></div> </div><div class=\"user\"><div class=\"face\"><img data-sn=\"HikariKuroki_\" onerror=\"twpro.errorFace(this)\" src=\"https://pbs.twimg.com/profile_images/1005271003579105282/vDOfUROj_reasonably_small.jpg\"/></div><div class=\"main\"><div class=\"head\"><div class=\"menu\"><span class=\"badge\"></span><span class=\"actions empty\" id=\"2867529229\"><a class=\"follow\" href=\"/home/follow/HikariKuroki_\" rel=\"nofollow\" target=\"_blank\">フォローする</a></span></div><div class=\"meta\"><a class=\"name\" href=\"/HikariKuroki_\" name=\"黒木ひかり グルービー\" target=\"_blank\"><span>黒木ひかり グルービー</span> <span>@HikariKuroki_</span></a><span class=\"paren\">[ゼロイチファミリア所属]</span><span>76023</span><span class=\"no-resp\">人がフォロー</span><span class=\"on-resp\">人</span></div></div><div class=\"body\">「キミが今日、ひかりを推しても...きっと後悔はさせない。」高校3年生の18歳 女優&amp;ユニット&amp;水着 お問い合わせ:<a href=\"/J?to=http%3A%2F%2F01familia.co.jp\" rel=\"nofollow\" target=\"_blank\">http://01familia.co.jp</a> 太陽とオオカミくんには騙されない 🧸💖</div></div> <div class=\"clear\"><!----></div> </div><div class=\"user\"><div class=\"face\"><img data-sn=\"eri_saito529\" onerror=\"twpro.errorFace(this)\" src=\"https://pbs.twimg.com/profile_images/1081199032490291200/dHJFTwA-_reasonably_small.jpg\"/></div><div class=\"main\"><div class=\"head\"><div class=\"menu\"><span class=\"badge\"><img alt=\"認証済みユーザー\" height=\"16\" src=\"/static/images/verified.png\" title=\"認証済みユーザー\" width=\"16\"/></span><span class=\"actions empty\" id=\"2413662428\"><a class=\"follow\" href=\"/home/follow/eri_saito529\" rel=\"nofollow\" target=\"_blank\">フォローする</a></span></div><div class=\"meta\"><a class=\"name\" href=\"/eri_saito529\" name=\"齊藤英里\" target=\"_blank\"><span>齊藤英里</span> <span>@eri_saito529</span></a><span class=\"paren\">[derive所属]</span><span>71935</span><span class=\"no-resp\">人がフォロー</span><span class=\"on-resp\">人</span></div></div><div class=\"body\">🇯🇵 18歳 O型 <a href=\"/J?to=https%3A%2F%2Fwww.instagram.com%2Feri_saito529%2F\" rel=\"nofollow\" target=\"_blank\">https://www.instagram.com/eri_saito529/</a></div></div> <div class=\"clear\"><!----></div> </div><div class=\"user\"><div class=\"face\"><img data-sn=\"AnanimarSt\" onerror=\"twpro.errorFace(this)\" src=\"https://pbs.twimg.com/profile_images/1084067686156427264/8iE1Oqid_reasonably_small.jpg\"/></div><div class=\"main\"><div class=\"head\"><div class=\"menu\"><span class=\"badge\"></span><span class=\"actions empty\" id=\"809353839165902848\"><a class=\"follow\" href=\"/home/follow/AnanimarSt\" rel=\"nofollow\" target=\"_blank\">フォローする</a></span></div><div class=\"meta\"><a class=\"name\" href=\"/AnanimarSt\" name=\"🐱ちゃん丸👑丸ちゃん👑\" target=\"_blank\"><span>🐱ちゃん丸👑丸ちゃん👑</span> <span>@AnanimarSt</span></a><span class=\"paren\">[YouTube↓愛知県 ]</span><span>70499</span><span class=\"no-resp\">人がフォロー</span><span class=\"on-resp\">人</span></div></div><div class=\"body\">YouTube+21200 高校3年生 モデル団体ミランダ所属 bit star ファンマーク➡︎🐱🐱お仕事依頼はDM🐱</div></div> <div class=\"clear\"><!----></div> </div><div class=\"user\"><div class=\"face\"><img data-sn=\"seina_fuku48\" onerror=\"twpro.errorFace(this)\" src=\"https://pbs.twimg.com/profile_images/1054746447852142593/KmJOmtmz_reasonably_small.jpg\"/></div><div class=\"main\"><div class=\"head\"><div class=\"menu\"><span class=\"badge\"><img alt=\"認証済みユーザー\" height=\"16\" src=\"/static/images/verified.png\" title=\"認証済みユーザー\" width=\"16\"/></span><span class=\"actions empty\" id=\"741097944779083776\"><a class=\"follow\" href=\"/home/follow/seina_fuku48\" rel=\"nofollow\" target=\"_blank\">フォローする</a></span></div><div class=\"meta\"><a class=\"name\" href=\"/seina_fuku48\" name=\"福岡 聖菜\" target=\"_blank\"><span>福岡 聖菜</span> <span>@seina_fuku48</span></a><span class=\"paren\">[神奈川県]</span><span>70175</span><span class=\"no-resp\">人がフォロー</span><span class=\"on-resp\">人</span></div></div><div class=\"body\">AKB48TeamB高校3年生。 洋服より和服が似合います。 ♡舞台/読書/手芸/料理/☆渋谷クロスFM <a href=\"/hash/%E3%82%B7%E3%83%96%E3%82%B7%E3%83%A3%E3%83%B3\" target=\"_blank\">#シブシャン</a> 毎月第1火曜日18時〜 /<a href=\"/hash/%E3%81%91%E3%82%82%E3%83%A1%E3%83%AD\" target=\"_blank\">#けもメロ</a> ピッピ役/マイナビ賃貸CM/アクアクララ/選抜総選挙31位/ ♪『抑えきれない衝動』『夢へのプロセス』</div></div> <div class=\"clear\"><!----></div> </div><div class=\"user\"><div class=\"face\"><img data-sn=\"mipochan_jp\" onerror=\"twpro.errorFace(this)\" src=\"https://pbs.twimg.com/profile_images/1083362139002175488/EDYjayFB_reasonably_small.jpg\"/></div><div class=\"main\"><div class=\"head\"><div class=\"menu\"><span class=\"badge\"></span><span class=\"actions empty\" id=\"2888649673\"><a class=\"follow\" href=\"/home/follow/mipochan_jp\" rel=\"nofollow\" target=\"_blank\">フォローする</a></span></div><div class=\"meta\"><a class=\"name\" href=\"/mipochan_jp\" name=\"楠本美帆(みぽたぽた)\" target=\"_blank\"><span>楠本美帆(みぽたぽた)</span> <span>@mipochan_jp</span></a><span class=\"paren\">[GROVE所属]</span><span>66032</span><span class=\"no-resp\">人がフォロー</span><span class=\"on-resp\">人</span></div></div><div class=\"body\">18歳👶🏻 instagram→<a href=\"/J?to=http%3A%2F%2FInstagram.com%2Fmipochan.jp\" rel=\"nofollow\" target=\"_blank\">http://Instagram.com/mipochan.jp</a> <a href=\"/henjinmajime\" target=\"_blank\">@henjinmajime</a> お仕事依頼等はDMへ</div></div> <div class=\"clear\"><!----></div> </div><div class=\"user\"><div class=\"face\"><img data-sn=\"RYUNOSUKE_830\" onerror=\"twpro.errorFace(this)\" src=\"https://pbs.twimg.com/profile_images/1080023751469617153/qwHmL2bb_reasonably_small.jpg\"/></div><div class=\"main\"><div class=\"head\"><div class=\"menu\"><span class=\"badge\"></span><span class=\"actions empty\" id=\"761160886937542656\"><a class=\"follow\" href=\"/home/follow/RYUNOSUKE_830\" rel=\"nofollow\" target=\"_blank\">フォローする</a></span></div><div class=\"meta\"><a class=\"name\" href=\"/RYUNOSUKE_830\" name=\"高橋龍之介\" target=\"_blank\"><span>高橋龍之介</span> <span>@RYUNOSUKE_830</span></a><span class=\"paren\">[]</span><span>57639</span><span class=\"no-resp\">人がフォロー</span><span class=\"on-resp\">人</span></div></div><div class=\"body\">18歳 お問い合わせ→ ryunosuke12830@icloud.com</div></div> <div class=\"clear\"><!----></div> </div></div><div class=\"more\" id=\"more-1\"><a href=\"/a/18/2\">もっと見る</a></div><div id=\"page1\"></div></div><div id=\"spinner\" style=\"display:none\"><img height=\"48\" src=\"/static/images/loading.gif\" width=\"48\"/></div><script>twpro.onload.push(function(){\n",
       " try{\n",
       " /*\n",
       "  * Render the search result in HTML\n",
       "  */\n",
       " var jsonToHTML = function(response){\n",
       "   var total   = response.total;\n",
       "   var count   = response.count;\n",
       "   var page    = response.page;\n",
       "   var users   = response.users;\n",
       "   var hasNext = response.more;\n",
       "   var step    = response.step || 20;\n",
       "   var start   = (page - 1)*step + 1;\n",
       "   var last    = start + count - 1;\n",
       "   var htmls = [];\n",
       " \n",
       "   /* USERS */\n",
       "   htmls.push(twpro.aryToHTML([\n",
       "     ['div', {'class':'users', 'id':['users', page].join('-')},\n",
       "       twpro.usersToHTML(users)]\n",
       "   ]));\n",
       " \n",
       "   /* MORE */\n",
       "   if(hasNext){\n",
       "     htmls.push(twpro.aryToHTML([\n",
       "       ['div', {'class':'more', 'id':['more', page].join('-')}, [\n",
       "         ['a', {'href':'#'}, 'もっと見る']\n",
       "       ]],\n",
       "       ['div', {'id':['page', page].join('')}, '']\n",
       "     ]));\n",
       "   }else{\n",
       "     htmls.push(twpro.aryToHTML([\n",
       "       ['div', {'class':'info'}, ['以上、全', total,\n",
       "         '件中の上位', last, '件'].join(' ')]\n",
       "     ]));\n",
       "   }\n",
       "   return htmls.join(\"\\n\");\n",
       " };\n",
       " var endpoint = \"/scoped/ranking.json\";\n",
       " var genData = function(page){\n",
       "   return ['code_id=18&type=a&page=', page + 1].join('');\n",
       " };\n",
       " $(document).on('click', '#users div.more', function(e){\n",
       "   var page = parseInt(this.id.split('-')[1]);\n",
       "   var id = [\"#page\", page].join('');\n",
       "   twpro.fetchResult(endpoint, page, id, genData(page), jsonToHTML);\n",
       "   return false;\n",
       " });\n",
       " \n",
       " /* fetch followings */\n",
       " twpro.fetchFollowings(function(user_ids){\n",
       "   twpro.updateActions();\n",
       " });\n",
       " }catch(e){twpro.report(e)}\n",
       " })</script><div class=\"ads-banner-box resp tail boxes\"><style type=\"text/css\">.no-resp #ad_ins_3 {width:336px;height:280px;}}\n",
       " @media screen and (max-width:61.249em){.no-resp #ad_ins_3 {display:none;}}</style><div class=\"ads-by l\">スポンサーリンク</div><div class=\"ads-banner\"><div class=\"ad first\"><script async=\"\" src=\"https://pagead2.googlesyndication.com/pagead/js/adsbygoogle.js\"></script><ins class=\"adsbygoogle\" data-ad-client=\"ca-pub-0111127737795787\" data-ad-format=\"auto\" data-ad-region=\"Search\" data-ad-slot=\"3630670013\" id=\"ad_ins_3\" style=\"display:block\"></ins><script>(adsbygoogle = window.adsbygoogle || []).push({});</script></div><div class=\"ad no-resp\"><script async=\"\" src=\"https://pagead2.googlesyndication.com/pagead/js/adsbygoogle.js\"></script><ins class=\"adsbygoogle\" data-ad-client=\"ca-pub-0111127737795787\" data-ad-region=\"Search\" data-ad-slot=\"3630670013\" id=\"ad_ins_3\" style=\"display:block\"></ins><script>(adsbygoogle = window.adsbygoogle || []).push({});</script></div><div class=\"ads-banner-end\"><!----></div></div></div><div class=\"search-foot\"><div id=\"share\"><div class=\"button\" id=\"hatebu\"><a class=\"hatena-bookmark-button\" data-hatena-bookmark-lang=\"ja\" data-hatena-bookmark-layout=\"vertical-balloon\" href=\"https://b.hatena.ne.jp/entry/\" rel=\"nofollow\" title=\"このエントリーをはてなブックマークに追加\"><img alt=\"このエントリーをはてなブックマークに追加\" height=\"20\" src=\"https://b.st-hatena.com/images/entry-button/button-only@2x.png\" style=\"border: none;\" width=\"20\"/></a></div><div class=\"button\" id=\"plusone\"><div class=\"g-plusone\" data-callback=\"share_gplusone\" data-href=\"https://twpro.jp/a/18\" data-lang=\"ja\" data-size=\"tall\"></div></div><div class=\"button\" id=\"tweet-button\"><a class=\"twitter-share-button\" data-count=\"vertical\" data-lang=\"ja\" data-url=\"https://twpro.jp/a/18\" href=\"https://twitter.com/share\" rel=\"nofollow\">ツイート</a></div><script>twpro.onload.push(function(){\n",
       " try{\n",
       " $(window).load(function(){\n",
       "   var url = \"https://twpro.jp/a/18\";\n",
       "   window.share_gplusone = function(data){\n",
       "     var type = (data.state == 'on' ? 'share' : 'unshare');\n",
       "     twpro.gaEvent(type, 'gplus', url);\n",
       "   }\n",
       "   twpro.require('https://b.st-hatena.com/js/bookmark_button.js');\n",
       "   if($.support.hrefNormalized){\n",
       "     twpro.require('https://apis.google.com/js/plusone.js');\n",
       "   }else{\n",
       "     $('#plusone').hide();\n",
       "   }\n",
       "   if($.support.htmlSerialize){\n",
       "     twpro.require('https://platform.twitter.com/widgets.js', function(){\n",
       "       twttr.events.bind('tweet', function(ev){\n",
       "         twpro.gaEvent('share', 'twitter', url);\n",
       "       });\n",
       "     });\n",
       "   }else{\n",
       "     $('#tweet-button').hide();\n",
       "   }\n",
       " });\n",
       " }catch(e){twpro.report(e)}\n",
       " })</script><div class=\"button\" id=\"facebook-like\"><script>twpro.onload.push(function(){\n",
       " try{\n",
       " $(window).load(function(){\n",
       "   $('#facebook-like.button').html(twpro.aryToHTML([\n",
       "     ['iframe', {\"src\":\"https://www.facebook.com/plugins/like.php?href=https://twpro.jp/a/18&layout=box_count&show_faces=false&action=like&share=false&colorscheme=light&height=62&width=69\",\"scrolling\":\"no\",\"frameborder\":0,\"style\":\"border:none;overflow:hidden;height:62px;width:69px;\",\"allowTransparency\":\"true\"}]\n",
       "   ]))\n",
       " })\n",
       " }catch(e){twpro.report(e)}\n",
       " })</script></div></div><div class=\"timestamp\" data-time=\"1547906057\">取得時刻: 2019年01月19日 22時54分17秒</div><script>twpro.onload.push(function(){\n",
       " try{\n",
       " var ts = $('.search-foot .timestamp');\n",
       " var time = (new Date(ts.data('time')*1000)).getTime();\n",
       " if((new Date).getTime() - time >= 10*86400*1000){\n",
       "   $.get(location.href + '/expires');\n",
       " }\n",
       " }catch(e){twpro.report(e)}\n",
       " })</script></div><div id=\"body_end\"></div></div></div><div id=\"sub\"><div class=\"frame\"><div id=\"menu\"><div class=\"buttons notice\"><a href=\"#\" id=\"notice-button\"><img alt=\"お知らせ\" src=\"/static/images/notice.png?1\"/></a></div><div class=\"buttons\"><a class=\"button\" href=\"/home/random\" id=\"random\" rel=\"nofollow\" title=\"ランダムにユーザを見る\"><img src=\"/static/images/random2.png\"/><span class=\"on-resp\">ランダム</span></a><a class=\"button\" href=\"/home/belong/a/18\" id=\"belong\" rel=\"nofollow\" title=\"このカテゴリに所属して検索されるようにする\"><span>所属する</span></a><script>twpro.onload.push(function(){\n",
       " try{\n",
       " if(twpro.isConnected()){\n",
       "   var belong = $('#belong.button');\n",
       "   twpro.fetchCodes(function(codes){\n",
       "     var code = \"a:18\";\n",
       "     if($.inArray(code, codes) >= 0){\n",
       "       belong.attr('href', '/home/unbelong/a/18');\n",
       "       belong.attr('title', 'このカテゴリへの所属を解除する');\n",
       "       belong.html('<span>所属解除</span>');\n",
       "     }\n",
       "   })\n",
       " }\n",
       " }catch(e){twpro.report(e)}\n",
       " })</script><a class=\"button\" href=\"/home/tour/a/18\" id=\"tour\" rel=\"nofollow\" title=\"このカテゴリーのユーザーをピックアップ\"><span>ピックアップ</span></a><span id=\"connect\"><a href=\"/home\" rel=\"nofollow\"><span>マイページ</span></a></span><script>twpro.onload.push(function(){\n",
       " try{\n",
       " if(twpro.isConnected()){\n",
       "   if(location.pathname.match(/^\\/home\\b/)){\n",
       "     $('#connect').html(twpro.aryToHTML([\n",
       "       ['a', {href:'/home/logout', rel:'nofollow'}, [\n",
       "         ['span', {}, 'ログアウト']\n",
       "       ]]\n",
       "     ]));\n",
       "   }else{\n",
       "     $('#connect').html(twpro.aryToHTML([\n",
       "       ['a', {href:'/home', rel:'nofollow'}, [\n",
       "         ['img', {'src':'/home/profile_image', 'height': '20'}],\n",
       "         ['span', {}, 'マイページ']\n",
       "       ]]\n",
       "     ]));\n",
       "   }\n",
       " }else{\n",
       "   $('#connect').html(twpro.aryToHTML([\n",
       "     ['a', {href:'/home', rel:'nofollow'}, [\n",
       "       ['span', {}, 'ログイン']\n",
       "     ]]\n",
       "   ]));\n",
       " }\n",
       " }catch(e){twpro.report(e)}\n",
       " })</script></div></div><div id=\"footer\"><div id=\"navi\"><a href=\"#\" id=\"go_to_top\"><img height=\"12\" src=\"/static/images/gotop.png\"/><span>先頭へ</span></a><a href=\"/ranking\"><span>ランキング</span></a><a href=\"/hash\"><span>#ハッシュタグ</span></a><a href=\"javascript:window.open('https://twpro.jp/s?url='+escape(location.href),&quot;_blank&quot;)\" id=\"bookmarklet\" rel=\"nofollow\"><span>+ツイプロ</span></a><script>twpro.onload.push(function(){\n",
       " try{\n",
       " $('#bookmarklet').click(function(){\n",
       "   alert(\"このリンクをブックマークに追加してご利用ください。\");\n",
       "   return false;\n",
       " });\n",
       " }catch(e){twpro.report(e)}\n",
       " })</script><a href=\"/doc\"><span>ツイプロについて</span></a><a class=\"search\" href=\"/\"><img height=\"12\" src=\"/static/images/search2.png\"/><span>検索する</span></a></div><div id=\"copyright\"><span class=\"c1\">Copyright © 2010-2019</span> <a class=\"c2\" href=\"http://www.s21g.com/\"><span>s21g Inc.</span></a> <span class=\"c3\">All Rights Reserved.</span></div><script>twpro.onload.push(function(){\n",
       " try{\n",
       " $('#go_to_top').click(function(){\n",
       "   $('html,body').animate({scrollTop: 0}, 300);\n",
       "   return false;\n",
       " });\n",
       " twpro.connect(\"\\u0004\\b[\\u0006I\\\"\\rscoped/a\\u0006:\\u0006EF--9ecd13aca6b12ebc2452fbc81351bbd718eddda1\");\n",
       " }catch(e){twpro.report(e)}\n",
       " })</script></div></div></div></div>,\n",
       " <div id=\"main\"><div id=\"header\"><h1 id=\"logo\"><a class=\"img\" href=\"/\"><img alt=\"ツイプロ\" src=\"/static/images/logo/twpro2_min.png\"/></a><a class=\"title scope\" href=\"/a/18\">18歳版</a></h1><script>twpro.onload.push(function(){\n",
       " try{\n",
       " var target = $('#logo a.title');\n",
       " var base = target.offsetParent();\n",
       " var w0 = null, R = (base.width() + base.offset().left)*(1 - 0.01);\n",
       " var adjust = function(n){\n",
       "   var w = target.width();\n",
       "   var right = target.offset().left + w;\n",
       "   var s = parseInt(target.css('font-size'));\n",
       "   if(w0 == null) w0 = w;\n",
       "   if(right > R){\n",
       "     s -= Math.max(s*0.03, 1);\n",
       "     if(s <= 0 || n == 0) return;\n",
       "     target.css({cssText: 'font-size:' + s + 'px !important'});\n",
       "     adjust(n - 1);\n",
       "   }else if(n < 30){\n",
       "     var t = 'scale(1,' + (w0/w).toFixed(3) + ') !important;';\n",
       "     target.css({'cssText': 'display:inline-block !important;' +\n",
       "       'transform:' + t + '-ms-transform:' + t + '-webkit-transform:' + t +\n",
       "       '-o-transform:' + t + '-moz-transform:' + t +\n",
       "       'font-size:' + twpro.px(s) + ' !important;'});\n",
       "   }\n",
       " };\n",
       " adjust(30);\n",
       " }catch(e){twpro.report(e)}\n",
       " })</script><div class=\"header-end\"><!----></div></div><div id=\"body\"><div class=\"breadcrumb\"><span class=\"item\" itemscope=\"\" itemtype=\"http://data-vocabulary.org/Breadcrumb\"><a class=\"last_3\" href=\"/a\" itemprop=\"url\"><span itemprop=\"title\">年齢別(3,051,425)</span></a> <span class=\"last_2\">»</span> </span> <span class=\"item\" itemscope=\"\" itemtype=\"http://data-vocabulary.org/Breadcrumb\"><a class=\"last_2\" href=\"/a/1\" itemprop=\"url\"><span itemprop=\"title\">10〜19歳(1,091,128)</span></a> <span class=\"last_1\">»</span> </span> <span class=\"item\" itemscope=\"\" itemtype=\"http://data-vocabulary.org/Breadcrumb\"><a class=\"last_1\" href=\"/a/18\" itemprop=\"url\"><span itemprop=\"title\">18歳(116,086)</span></a></span> </div><div class=\"content\" id=\"search_form\"><h2 class=\"lead\">18歳のTwitterユーザのプロフィールを快適検索！</h2><form action=\"/a/18/search\" method=\"get\"><div class=\"header\"><div class=\"keyword-label\">キーワード:</div><div class=\"options\"><input id=\"inv\" name=\"inv\" type=\"checkbox\"/><label for=\"inv\">逆順に検索する</label></div><div class=\"submit\"><input id=\"go\" type=\"submit\" value=\"検索\"/></div></div><div class=\"keyword\"><input autocapitalize=\"off\" autocomplete=\"off\" autocorrect=\"off\" id=\"word\" name=\"word\" size=\"60\" type=\"text\"/></div><noscript>&lt;input id=\"nojs\" name=\"nojs\" type=\"hidden\" value=\"1\"&gt;</noscript><div class=\"keyword-help\">スペースで区切るとAND検索になります</div></form></div><script>twpro.onload.push(function(){\n",
       " try{\n",
       " $('#word').keydown(function(e){\n",
       "   if (e.keyCode == 13) {\n",
       "     $(\"#go\").click();\n",
       "     return false;\n",
       "   }\n",
       " });\n",
       " if(twpro.getParam('inv') == 'on'){\n",
       "   $('#search_form #inv').attr('checked', true);\n",
       " }\n",
       " }catch(e){twpro.report(e)}\n",
       " })</script><script>twpro.onload.push(function(){\n",
       " try{\n",
       " twpro.focus($('#word'));\n",
       " }catch(e){twpro.report(e)}\n",
       " })</script><div class=\"ads-banner-box resp head\"><style type=\"text/css\"> #ad_ins_1{width:728px;height:90px;margin:auto;}\n",
       " @media screen and (max-width:61.249em){ #ad_ins_1{width:100%;height:100px;}}\n",
       " @media screen and (max-width:61.249em) and (min-width:320px) and (max-width:480px){\n",
       "    #ad_ins_1{width:320px;height:100px;margin:auto;}}\n",
       " @media screen and (max-width:61.249em) and (min-width:40em) and (min-height:30em) and (max-width:768px){ #ad_ins_1{\n",
       "   width:320px;height:100px;margin:auto;}}</style><div class=\"ads-by l on-resp\">スポンサーリンク</div><div class=\"ads-by l no-resp\">広告</div><div class=\"ads-banner\"><script async=\"\" src=\"https://pagead2.googlesyndication.com/pagead/js/adsbygoogle.js\"></script><ins class=\"adsbygoogle\" data-ad-client=\"ca-pub-0111127737795787\" data-ad-region=\"Search\" data-ad-slot=\"3630670013\" id=\"ad_ins_1\" style=\"display:block\"></ins><script>(adsbygoogle = window.adsbygoogle || []).push({});</script></div></div><div id=\"users\"><div class=\"info\"><div class=\"page\"><span class=\"time\">全 116193 件中の 1位 〜 20位</span><a href=\"https://twitter.com\" rel=\"nofollow\" target=\"_blank\"><img class=\"twitter\" src=\"/static/images/twitter.png?2\"/></a></div><div class=\"action\"><a href=\"/a/18/expires\" rel=\"nofollow\">更新する</a></div><div class=\"info-end\"><!----></div></div><div class=\"users\" id=\"users-1\"><div class=\"user\"><div class=\"face\"><img data-sn=\"MINAMI373HAMABE\" onerror=\"twpro.errorFace(this)\" src=\"https://pbs.twimg.com/profile_images/1068457755768311808/YyfkGeb7_reasonably_small.jpg\"/></div><div class=\"main\"><div class=\"head\"><div class=\"menu\"><span class=\"badge\"><img alt=\"認証済みユーザー\" height=\"16\" src=\"/static/images/verified.png\" title=\"認証済みユーザー\" width=\"16\"/></span><span class=\"actions empty\" id=\"978442914693959680\"><a class=\"follow\" href=\"/home/follow/MINAMI373HAMABE\" rel=\"nofollow\" target=\"_blank\">フォローする</a></span></div><div class=\"meta\"><a class=\"name\" href=\"/MINAMI373HAMABE\" name=\"浜辺美波\" target=\"_blank\"><span>浜辺美波</span> <span>@MINAMI373HAMABE</span></a><span class=\"paren\">[]</span><span>497594</span><span class=\"no-resp\">人がフォロー</span><span class=\"on-resp\">人</span></div></div><div class=\"body\">浜辺美波official account／東宝芸能所属／18歳/「賭ケグルイ」ドラマseason２、映画が2019年に公開！／2019年公開『アルキメデスの大戦』『屍人荘の殺人』出演！ OFFICIAL SITEもチェックしてみてくださいね☺<a href=\"/J?to=https%3A%2F%2Fminamihamabe.futureartist.net\" rel=\"nofollow\" target=\"_blank\">https://minamihamabe.futureartist.net</a></div></div> <div class=\"clear\"><!----></div> </div><div class=\"user\"><div class=\"face\"><img data-sn=\"syounen_t_sako\" onerror=\"twpro.errorFace(this)\" src=\"https://pbs.twimg.com/profile_images/962635869856268290/I_VgNrVf_reasonably_small.jpg\"/></div><div class=\"main\"><div class=\"head\"><div class=\"menu\"><span class=\"badge\"><img alt=\"認証済みユーザー\" height=\"16\" src=\"/static/images/verified.png\" title=\"認証済みユーザー\" width=\"16\"/></span><span class=\"actions empty\" id=\"523136880\"><a class=\"follow\" href=\"/home/follow/syounen_t_sako\" rel=\"nofollow\" target=\"_blank\">フォローする</a></span></div><div class=\"meta\"><a class=\"name\" href=\"/syounen_t_sako\" name=\"佐香智久（少年T）\" target=\"_blank\"><span>佐香智久（少年T）</span> <span>@syounen_t_sako</span></a><span class=\"paren\">[いえにいたい]</span><span>309648</span><span class=\"no-resp\">人がフォロー</span><span class=\"on-resp\">人</span></div></div><div class=\"body\">Tくんと呼ばれています。曲を作って歌います。声優。ホーリーピーク所属。18歳でした。特技は液晶保護フィルムを貼ること。「君と僕。」「絶園のテンペスト」「抱かれたい男１位に脅されています。」「夏目友人帳」「ポケットモンスター」 「メガネブ!」</div></div> <div class=\"clear\"><!----></div> </div><div class=\"user\"><div class=\"face\"><img data-sn=\"kirizaki_oyaji\" onerror=\"twpro.errorFace(this)\" src=\"https://pbs.twimg.com/profile_images/804677256501002240/advGGpe4_reasonably_small.jpg\"/></div><div class=\"main\"><div class=\"head\"><div class=\"menu\"><span class=\"badge\"></span><span class=\"actions empty\" id=\"745226168253583360\"><a class=\"follow\" href=\"/home/follow/kirizaki_oyaji\" rel=\"nofollow\" target=\"_blank\">フォローする</a></span></div><div class=\"meta\"><a class=\"name\" href=\"/kirizaki_oyaji\" name=\"桐崎の親父(KIRI..PAPA)✨😎\" target=\"_blank\"><span>桐崎の親父(KIRI..PAPA)✨😎</span> <span>@kirizaki_oyaji</span></a><span class=\"paren\">[日本 石川]</span><span>207266</span><span class=\"no-resp\">人がフォロー</span><span class=\"on-resp\">人</span></div></div><div class=\"body\">タンケッキーは、もう使わないであろう✨😎アカウントは、これ１つだ💫 このアイコンこけでぃっしゅさんに、描いて頂きました！幸せだ☆彡 昭和の香りがします。ファボは既読ですw/たまに、リプ辺/ヘッダーは18歳の俺！/インスタはこれ✨<a href=\"/J?to=http%3A%2F%2FInstagram.com%2Fkiripapa1230%2F\" rel=\"nofollow\" target=\"_blank\">http://Instagram.com/kiripapa1230/</a>フォローよろしくぅ！</div></div> <div class=\"clear\"><!----></div> </div><div class=\"user\"><div class=\"face\"><img data-sn=\"reipoyo_0411\" onerror=\"twpro.errorFace(this)\" src=\"https://pbs.twimg.com/profile_images/1078921452827533312/Gfw3bdfy_reasonably_small.jpg\"/></div><div class=\"main\"><div class=\"head\"><div class=\"menu\"><span class=\"badge\"><img alt=\"認証済みユーザー\" height=\"16\" src=\"/static/images/verified.png\" title=\"認証済みユーザー\" width=\"16\"/></span><span class=\"actions empty\" id=\"2364217764\"><a class=\"follow\" href=\"/home/follow/reipoyo_0411\" rel=\"nofollow\" target=\"_blank\">フォローする</a></span></div><div class=\"meta\"><a class=\"name\" href=\"/reipoyo_0411\" name=\"れいぽよ(土屋怜菜)\" target=\"_blank\"><span>れいぽよ(土屋怜菜)</span> <span>@reipoyo_0411</span></a><span class=\"paren\">[Popteen専属もでる♡]</span><span>203511</span><span class=\"no-resp\">人がフォロー</span><span class=\"on-resp\">人</span></div></div><div class=\"body\">A-LIGHT所属 JK3 18歳 初心を忘れずに。大切なぽよわー♡MyColor⇒濃い紫 お仕事のお問い合わせは☞info@ateamgroup.jp YouTube☞<a href=\"/J?to=http%3A%2F%2Furx3.nu%2FJrnh\" rel=\"nofollow\" target=\"_blank\">http://urx3.nu/Jrnh</a></div></div> <div class=\"clear\"><!----></div> </div><div class=\"user\"><div class=\"face\"><img data-sn=\"nakano_ena\" onerror=\"twpro.errorFace(this)\" src=\"https://pbs.twimg.com/profile_images/1048872150617051136/zAvI-Il-_reasonably_small.jpg\"/></div><div class=\"main\"><div class=\"head\"><div class=\"menu\"><span class=\"badge\"><img alt=\"認証済みユーザー\" height=\"16\" src=\"/static/images/verified.png\" title=\"認証済みユーザー\" width=\"16\"/></span><span class=\"actions empty\" id=\"740153360355975168\"><a class=\"follow\" href=\"/home/follow/nakano_ena\" rel=\"nofollow\" target=\"_blank\">フォローする</a></span></div><div class=\"meta\"><a class=\"name\" href=\"/nakano_ena\" name=\"ちゃんえな(中野恵那)\" target=\"_blank\"><span>ちゃんえな(中野恵那)</span> <span>@nakano_ena</span></a><span class=\"paren\">[]</span><span>164307</span><span class=\"no-resp\">人がフォロー</span><span class=\"on-resp\">人</span></div></div><div class=\"body\">Popteen専属もでる。JK3の18歳。 まいぺーすです。instagrm☞<a href=\"/J?to=http%3A%2F%2FInstagram.com%2Fnakano.ena\" rel=\"nofollow\" target=\"_blank\">http://Instagram.com/nakano.ena</a> お仕事のお問い合わせはこちら👉info@sgmedia.tokyo</div></div> <div class=\"clear\"><!----></div> </div><div class=\"user\"><div class=\"face\"><img data-sn=\"riko6622\" onerror=\"twpro.errorFace(this)\" src=\"https://pbs.twimg.com/profile_images/1084370038990135296/l1IxSJyb_reasonably_small.jpg\"/></div><div class=\"main\"><div class=\"head\"><div class=\"menu\"><span class=\"badge\"><img alt=\"認証済みユーザー\" height=\"16\" src=\"/static/images/verified.png\" title=\"認証済みユーザー\" width=\"16\"/></span><span class=\"actions empty\" id=\"2311744848\"><a class=\"follow\" href=\"/home/follow/riko6622\" rel=\"nofollow\" target=\"_blank\">フォローする</a></span></div><div class=\"meta\"><a class=\"name\" href=\"/riko6622\" name=\"りこ\" target=\"_blank\"><span>りこ</span> <span>@riko6622</span></a><span class=\"paren\">[三重]</span><span>157448</span><span class=\"no-resp\">人がフォロー</span><span class=\"on-resp\">人</span></div></div><div class=\"body\">SonyMusicArtists | 18歳 | 双子の妹です | はじめてのスタイルブック「<a href=\"/hash/%E3%82%8A%E3%81%8B%E3%82%8A%E3%81%93\" target=\"_blank\">#りかりこ</a>」全国の書店・Amazonで発売中 🍒【Instagram】<a href=\"/J?to=http%3A%2F%2FInstagram.com%2Friko_ichino\" rel=\"nofollow\" target=\"_blank\">http://Instagram.com/riko_ichino</a> 【<a href=\"/exrikariko\" target=\"_blank\">@exrikariko</a>】</div></div> <div class=\"clear\"><!----></div> </div><div class=\"user\"><div class=\"face\"><img data-sn=\"pp_m1216\" onerror=\"twpro.errorFace(this)\" src=\"https://pbs.twimg.com/profile_images/1080056407066501121/_2M0EUo5_reasonably_small.jpg\"/></div><div class=\"main\"><div class=\"head\"><div class=\"menu\"><span class=\"badge\"></span><span class=\"actions empty\" id=\"801818225017167873\"><a class=\"follow\" href=\"/home/follow/pp_m1216\" rel=\"nofollow\" target=\"_blank\">フォローする</a></span></div><div class=\"meta\"><a class=\"name\" href=\"/pp_m1216\" name=\"伊藤 桃々\" target=\"_blank\"><span>伊藤 桃々</span> <span>@pp_m1216</span></a><span class=\"paren\">[プラチナムプロダクション所属]</span><span>131831</span><span class=\"no-resp\">人がフォロー</span><span class=\"on-resp\">人</span></div></div><div class=\"body\">高校3年生 18歳 egg専属モデル 白ギャル</div></div> <div class=\"clear\"><!----></div> </div><div class=\"user\"><div class=\"face\"><img data-sn=\"Yooshiakiii\" onerror=\"twpro.errorFace(this)\" src=\"https://pbs.twimg.com/profile_images/1026266137321824257/J1jlw6dV_reasonably_small.jpg\"/></div><div class=\"main\"><div class=\"head\"><div class=\"menu\"><span class=\"badge\"></span><span class=\"actions empty\" id=\"2698276440\"><a class=\"follow\" href=\"/home/follow/Yooshiakiii\" rel=\"nofollow\" target=\"_blank\">フォローする</a></span></div><div class=\"meta\"><a class=\"name\" href=\"/Yooshiakiii\" name=\"よしあき Yoshiaki\" target=\"_blank\"><span>よしあき Yoshiaki</span> <span>@Yooshiakiii</span></a><span class=\"paren\">[]</span><span>108957</span><span class=\"no-resp\">人がフォロー</span><span class=\"on-resp\">人</span></div></div><div class=\"body\">18歳男子・蛾が嫌いです・姉⇨<a href=\"/mi0306chi\" target=\"_blank\">@mi0306chi</a> ・INSTAR所属 お仕事のお問い合わせはysuzuki@tp-co.jp まで</div></div> <div class=\"clear\"><!----></div> </div><div class=\"user\"><div class=\"face\"><img data-sn=\"nokko_626\" onerror=\"twpro.errorFace(this)\" src=\"https://pbs.twimg.com/profile_images/948804876414328832/WmFxHsxo_reasonably_small.jpg\"/></div><div class=\"main\"><div class=\"head\"><div class=\"menu\"><span class=\"badge\"></span><span class=\"actions empty\" id=\"3181701626\"><a class=\"follow\" href=\"/home/follow/nokko_626\" rel=\"nofollow\" target=\"_blank\">フォローする</a></span></div><div class=\"meta\"><a class=\"name\" href=\"/nokko_626\" name=\"西山乃利子\" target=\"_blank\"><span>西山乃利子</span> <span>@nokko_626</span></a><span class=\"paren\">[神奈川]</span><span>89900</span><span class=\"no-resp\">人がフォロー</span><span class=\"on-resp\">人</span></div></div><div class=\"body\">高校3年生/たけのこの里派 【<a href=\"/J?to=https%3A%2F%2Fwww.youtube.com%2Fchannel%2FUCvlijdMzP2M2JlkiI8IEd8A\" rel=\"nofollow\" target=\"_blank\">https://www.youtube.com/channel/UCvlijdMzP2M2JlkiI8IEd8A</a>】</div></div> <div class=\"clear\"><!----></div> </div><div class=\"user\"><div class=\"face\"><img data-sn=\"Saku_s6\" onerror=\"twpro.errorFace(this)\" src=\"https://pbs.twimg.com/profile_images/1082487910471917568/n6r6262U_reasonably_small.jpg\"/></div><div class=\"main\"><div class=\"head\"><div class=\"menu\"><span class=\"badge\"></span><span class=\"actions empty\" id=\"4731396792\"><a class=\"follow\" href=\"/home/follow/Saku_s6\" rel=\"nofollow\" target=\"_blank\">フォローする</a></span></div><div class=\"meta\"><a class=\"name\" href=\"/Saku_s6\" name=\"関口 さくら\" target=\"_blank\"><span>関口 さくら</span> <span>@Saku_s6</span></a><span class=\"paren\">[Vithmic所属]</span><span>87806</span><span class=\"no-resp\">人がフォロー</span><span class=\"on-resp\">人</span></div></div><div class=\"body\">2000.6.6 🇵🇭×🇯🇵 フィリピンと日本のハーフ。、、高校三年生１８歳 ぽちゃ子🐷 小悪魔ageha専属モデル😈 <a href=\"/hash/%E5%B0%8F%E6%82%AA%E9%AD%94ageha\" target=\"_blank\">#小悪魔ageha</a> <a href=\"/hash/%E5%B0%8F%E6%82%AA%E9%AD%94%E3%82%AE%E3%83%A3%E3%83%AB\" target=\"_blank\">#小悪魔ギャル</a></div></div> <div class=\"clear\"><!----></div> </div><div class=\"ads-banner-box resp middle boxes\"><style type=\"text/css\">.no-resp #ad_ins_2 {width:336px;height:280px;}}\n",
       " @media screen and (max-width:61.249em){.no-resp #ad_ins_2 {display:none;}}</style><div class=\"ads-by l\">スポンサーリンク</div><div class=\"ads-banner\"><div class=\"ad first\"><script async=\"\" src=\"https://pagead2.googlesyndication.com/pagead/js/adsbygoogle.js\"></script><ins class=\"adsbygoogle\" data-ad-client=\"ca-pub-0111127737795787\" data-ad-format=\"auto\" data-ad-region=\"Search\" data-ad-slot=\"3630670013\" id=\"ad_ins_2\" style=\"display:block\"></ins><script>(adsbygoogle = window.adsbygoogle || []).push({});</script></div><div class=\"ad no-resp\"><script async=\"\" src=\"https://pagead2.googlesyndication.com/pagead/js/adsbygoogle.js\"></script><ins class=\"adsbygoogle\" data-ad-client=\"ca-pub-0111127737795787\" data-ad-region=\"Search\" data-ad-slot=\"3630670013\" id=\"ad_ins_2\" style=\"display:block\"></ins><script>(adsbygoogle = window.adsbygoogle || []).push({});</script></div><div class=\"ads-banner-end\"><!----></div></div></div><div class=\"user\"><div class=\"face\"><img data-sn=\"metxore\" onerror=\"twpro.errorFace(this)\" src=\"https://pbs.twimg.com/profile_images/1078945919695867904/Mv9jyDYv_reasonably_small.jpg\"/></div><div class=\"main\"><div class=\"head\"><div class=\"menu\"><span class=\"badge\"></span><span class=\"actions empty\" id=\"860028905247330304\"><a class=\"follow\" href=\"/home/follow/metxore\" rel=\"nofollow\" target=\"_blank\">フォローする</a></span></div><div class=\"meta\"><a class=\"name\" href=\"/metxore\" name=\"☆彡\" target=\"_blank\"><span>☆彡</span> <span>@metxore</span></a><span class=\"paren\">[]</span><span>81919</span><span class=\"no-resp\">人がフォロー</span><span class=\"on-resp\">人</span></div></div><div class=\"body\">18歳</div></div> <div class=\"clear\"><!----></div> </div><div class=\"user\"><div class=\"face\"><img data-sn=\"naenano78\" onerror=\"twpro.errorFace(this)\" src=\"https://pbs.twimg.com/profile_images/1082259108307206145/4QLTy1Ef_reasonably_small.jpg\"/></div><div class=\"main\"><div class=\"head\"><div class=\"menu\"><span class=\"badge\"></span><span class=\"actions empty\" id=\"2368691347\"><a class=\"follow\" href=\"/home/follow/naenano78\" rel=\"nofollow\" target=\"_blank\">フォローする</a></span></div><div class=\"meta\"><a class=\"name\" href=\"/naenano78\" name=\"なえなの🌨\" target=\"_blank\"><span>なえなの🌨</span> <span>@naenano78</span></a><span class=\"paren\">[好きなことして生きてゆく]</span><span>80472</span><span class=\"no-resp\">人がフォロー</span><span class=\"on-resp\">人</span></div></div><div class=\"body\">１８歳の顔面セルライトスペシャル</div></div> <div class=\"clear\"><!----></div> </div><div class=\"user\"><div class=\"face\"><img data-sn=\"Yu_u_sb\" onerror=\"twpro.errorFace(this)\" src=\"https://pbs.twimg.com/profile_images/1076744280583036929/mi8CmIJu_reasonably_small.jpg\"/></div><div class=\"main\"><div class=\"head\"><div class=\"menu\"><span class=\"badge\"></span><span class=\"actions empty\" id=\"2853349056\"><a class=\"follow\" href=\"/home/follow/Yu_u_sb\" rel=\"nofollow\" target=\"_blank\">フォローする</a></span></div><div class=\"meta\"><a class=\"name\" href=\"/Yu_u_sb\" name=\"ゆうぴーまん\" target=\"_blank\"><span>ゆうぴーまん</span> <span>@Yu_u_sb</span></a><span class=\"paren\">[]</span><span>79927</span><span class=\"no-resp\">人がフォロー</span><span class=\"on-resp\">人</span></div></div><div class=\"body\">高校3年生🗽食べることと旅行に行くことが好きで少しダンスが得意です🤷🏻‍♂️🍤YouTubeみてね(<a href=\"/PKA_123\" target=\"_blank\">@PKA_123</a>) 質問等があればリプにてお願い致します🙄📮随時友達募集中🤝(笑)</div></div> <div class=\"clear\"><!----></div> </div><div class=\"user\"><div class=\"face\"><img data-sn=\"HikariKuroki_\" onerror=\"twpro.errorFace(this)\" src=\"https://pbs.twimg.com/profile_images/1005271003579105282/vDOfUROj_reasonably_small.jpg\"/></div><div class=\"main\"><div class=\"head\"><div class=\"menu\"><span class=\"badge\"></span><span class=\"actions empty\" id=\"2867529229\"><a class=\"follow\" href=\"/home/follow/HikariKuroki_\" rel=\"nofollow\" target=\"_blank\">フォローする</a></span></div><div class=\"meta\"><a class=\"name\" href=\"/HikariKuroki_\" name=\"黒木ひかり グルービー\" target=\"_blank\"><span>黒木ひかり グルービー</span> <span>@HikariKuroki_</span></a><span class=\"paren\">[ゼロイチファミリア所属]</span><span>76023</span><span class=\"no-resp\">人がフォロー</span><span class=\"on-resp\">人</span></div></div><div class=\"body\">「キミが今日、ひかりを推しても...きっと後悔はさせない。」高校3年生の18歳 女優&amp;ユニット&amp;水着 お問い合わせ:<a href=\"/J?to=http%3A%2F%2F01familia.co.jp\" rel=\"nofollow\" target=\"_blank\">http://01familia.co.jp</a> 太陽とオオカミくんには騙されない 🧸💖</div></div> <div class=\"clear\"><!----></div> </div><div class=\"user\"><div class=\"face\"><img data-sn=\"eri_saito529\" onerror=\"twpro.errorFace(this)\" src=\"https://pbs.twimg.com/profile_images/1081199032490291200/dHJFTwA-_reasonably_small.jpg\"/></div><div class=\"main\"><div class=\"head\"><div class=\"menu\"><span class=\"badge\"><img alt=\"認証済みユーザー\" height=\"16\" src=\"/static/images/verified.png\" title=\"認証済みユーザー\" width=\"16\"/></span><span class=\"actions empty\" id=\"2413662428\"><a class=\"follow\" href=\"/home/follow/eri_saito529\" rel=\"nofollow\" target=\"_blank\">フォローする</a></span></div><div class=\"meta\"><a class=\"name\" href=\"/eri_saito529\" name=\"齊藤英里\" target=\"_blank\"><span>齊藤英里</span> <span>@eri_saito529</span></a><span class=\"paren\">[derive所属]</span><span>71935</span><span class=\"no-resp\">人がフォロー</span><span class=\"on-resp\">人</span></div></div><div class=\"body\">🇯🇵 18歳 O型 <a href=\"/J?to=https%3A%2F%2Fwww.instagram.com%2Feri_saito529%2F\" rel=\"nofollow\" target=\"_blank\">https://www.instagram.com/eri_saito529/</a></div></div> <div class=\"clear\"><!----></div> </div><div class=\"user\"><div class=\"face\"><img data-sn=\"AnanimarSt\" onerror=\"twpro.errorFace(this)\" src=\"https://pbs.twimg.com/profile_images/1084067686156427264/8iE1Oqid_reasonably_small.jpg\"/></div><div class=\"main\"><div class=\"head\"><div class=\"menu\"><span class=\"badge\"></span><span class=\"actions empty\" id=\"809353839165902848\"><a class=\"follow\" href=\"/home/follow/AnanimarSt\" rel=\"nofollow\" target=\"_blank\">フォローする</a></span></div><div class=\"meta\"><a class=\"name\" href=\"/AnanimarSt\" name=\"🐱ちゃん丸👑丸ちゃん👑\" target=\"_blank\"><span>🐱ちゃん丸👑丸ちゃん👑</span> <span>@AnanimarSt</span></a><span class=\"paren\">[YouTube↓愛知県 ]</span><span>70499</span><span class=\"no-resp\">人がフォロー</span><span class=\"on-resp\">人</span></div></div><div class=\"body\">YouTube+21200 高校3年生 モデル団体ミランダ所属 bit star ファンマーク➡︎🐱🐱お仕事依頼はDM🐱</div></div> <div class=\"clear\"><!----></div> </div><div class=\"user\"><div class=\"face\"><img data-sn=\"seina_fuku48\" onerror=\"twpro.errorFace(this)\" src=\"https://pbs.twimg.com/profile_images/1054746447852142593/KmJOmtmz_reasonably_small.jpg\"/></div><div class=\"main\"><div class=\"head\"><div class=\"menu\"><span class=\"badge\"><img alt=\"認証済みユーザー\" height=\"16\" src=\"/static/images/verified.png\" title=\"認証済みユーザー\" width=\"16\"/></span><span class=\"actions empty\" id=\"741097944779083776\"><a class=\"follow\" href=\"/home/follow/seina_fuku48\" rel=\"nofollow\" target=\"_blank\">フォローする</a></span></div><div class=\"meta\"><a class=\"name\" href=\"/seina_fuku48\" name=\"福岡 聖菜\" target=\"_blank\"><span>福岡 聖菜</span> <span>@seina_fuku48</span></a><span class=\"paren\">[神奈川県]</span><span>70175</span><span class=\"no-resp\">人がフォロー</span><span class=\"on-resp\">人</span></div></div><div class=\"body\">AKB48TeamB高校3年生。 洋服より和服が似合います。 ♡舞台/読書/手芸/料理/☆渋谷クロスFM <a href=\"/hash/%E3%82%B7%E3%83%96%E3%82%B7%E3%83%A3%E3%83%B3\" target=\"_blank\">#シブシャン</a> 毎月第1火曜日18時〜 /<a href=\"/hash/%E3%81%91%E3%82%82%E3%83%A1%E3%83%AD\" target=\"_blank\">#けもメロ</a> ピッピ役/マイナビ賃貸CM/アクアクララ/選抜総選挙31位/ ♪『抑えきれない衝動』『夢へのプロセス』</div></div> <div class=\"clear\"><!----></div> </div><div class=\"user\"><div class=\"face\"><img data-sn=\"mipochan_jp\" onerror=\"twpro.errorFace(this)\" src=\"https://pbs.twimg.com/profile_images/1083362139002175488/EDYjayFB_reasonably_small.jpg\"/></div><div class=\"main\"><div class=\"head\"><div class=\"menu\"><span class=\"badge\"></span><span class=\"actions empty\" id=\"2888649673\"><a class=\"follow\" href=\"/home/follow/mipochan_jp\" rel=\"nofollow\" target=\"_blank\">フォローする</a></span></div><div class=\"meta\"><a class=\"name\" href=\"/mipochan_jp\" name=\"楠本美帆(みぽたぽた)\" target=\"_blank\"><span>楠本美帆(みぽたぽた)</span> <span>@mipochan_jp</span></a><span class=\"paren\">[GROVE所属]</span><span>66032</span><span class=\"no-resp\">人がフォロー</span><span class=\"on-resp\">人</span></div></div><div class=\"body\">18歳👶🏻 instagram→<a href=\"/J?to=http%3A%2F%2FInstagram.com%2Fmipochan.jp\" rel=\"nofollow\" target=\"_blank\">http://Instagram.com/mipochan.jp</a> <a href=\"/henjinmajime\" target=\"_blank\">@henjinmajime</a> お仕事依頼等はDMへ</div></div> <div class=\"clear\"><!----></div> </div><div class=\"user\"><div class=\"face\"><img data-sn=\"RYUNOSUKE_830\" onerror=\"twpro.errorFace(this)\" src=\"https://pbs.twimg.com/profile_images/1080023751469617153/qwHmL2bb_reasonably_small.jpg\"/></div><div class=\"main\"><div class=\"head\"><div class=\"menu\"><span class=\"badge\"></span><span class=\"actions empty\" id=\"761160886937542656\"><a class=\"follow\" href=\"/home/follow/RYUNOSUKE_830\" rel=\"nofollow\" target=\"_blank\">フォローする</a></span></div><div class=\"meta\"><a class=\"name\" href=\"/RYUNOSUKE_830\" name=\"高橋龍之介\" target=\"_blank\"><span>高橋龍之介</span> <span>@RYUNOSUKE_830</span></a><span class=\"paren\">[]</span><span>57639</span><span class=\"no-resp\">人がフォロー</span><span class=\"on-resp\">人</span></div></div><div class=\"body\">18歳 お問い合わせ→ ryunosuke12830@icloud.com</div></div> <div class=\"clear\"><!----></div> </div></div><div class=\"more\" id=\"more-1\"><a href=\"/a/18/2\">もっと見る</a></div><div id=\"page1\"></div></div><div id=\"spinner\" style=\"display:none\"><img height=\"48\" src=\"/static/images/loading.gif\" width=\"48\"/></div><script>twpro.onload.push(function(){\n",
       " try{\n",
       " /*\n",
       "  * Render the search result in HTML\n",
       "  */\n",
       " var jsonToHTML = function(response){\n",
       "   var total   = response.total;\n",
       "   var count   = response.count;\n",
       "   var page    = response.page;\n",
       "   var users   = response.users;\n",
       "   var hasNext = response.more;\n",
       "   var step    = response.step || 20;\n",
       "   var start   = (page - 1)*step + 1;\n",
       "   var last    = start + count - 1;\n",
       "   var htmls = [];\n",
       " \n",
       "   /* USERS */\n",
       "   htmls.push(twpro.aryToHTML([\n",
       "     ['div', {'class':'users', 'id':['users', page].join('-')},\n",
       "       twpro.usersToHTML(users)]\n",
       "   ]));\n",
       " \n",
       "   /* MORE */\n",
       "   if(hasNext){\n",
       "     htmls.push(twpro.aryToHTML([\n",
       "       ['div', {'class':'more', 'id':['more', page].join('-')}, [\n",
       "         ['a', {'href':'#'}, 'もっと見る']\n",
       "       ]],\n",
       "       ['div', {'id':['page', page].join('')}, '']\n",
       "     ]));\n",
       "   }else{\n",
       "     htmls.push(twpro.aryToHTML([\n",
       "       ['div', {'class':'info'}, ['以上、全', total,\n",
       "         '件中の上位', last, '件'].join(' ')]\n",
       "     ]));\n",
       "   }\n",
       "   return htmls.join(\"\\n\");\n",
       " };\n",
       " var endpoint = \"/scoped/ranking.json\";\n",
       " var genData = function(page){\n",
       "   return ['code_id=18&type=a&page=', page + 1].join('');\n",
       " };\n",
       " $(document).on('click', '#users div.more', function(e){\n",
       "   var page = parseInt(this.id.split('-')[1]);\n",
       "   var id = [\"#page\", page].join('');\n",
       "   twpro.fetchResult(endpoint, page, id, genData(page), jsonToHTML);\n",
       "   return false;\n",
       " });\n",
       " \n",
       " /* fetch followings */\n",
       " twpro.fetchFollowings(function(user_ids){\n",
       "   twpro.updateActions();\n",
       " });\n",
       " }catch(e){twpro.report(e)}\n",
       " })</script><div class=\"ads-banner-box resp tail boxes\"><style type=\"text/css\">.no-resp #ad_ins_3 {width:336px;height:280px;}}\n",
       " @media screen and (max-width:61.249em){.no-resp #ad_ins_3 {display:none;}}</style><div class=\"ads-by l\">スポンサーリンク</div><div class=\"ads-banner\"><div class=\"ad first\"><script async=\"\" src=\"https://pagead2.googlesyndication.com/pagead/js/adsbygoogle.js\"></script><ins class=\"adsbygoogle\" data-ad-client=\"ca-pub-0111127737795787\" data-ad-format=\"auto\" data-ad-region=\"Search\" data-ad-slot=\"3630670013\" id=\"ad_ins_3\" style=\"display:block\"></ins><script>(adsbygoogle = window.adsbygoogle || []).push({});</script></div><div class=\"ad no-resp\"><script async=\"\" src=\"https://pagead2.googlesyndication.com/pagead/js/adsbygoogle.js\"></script><ins class=\"adsbygoogle\" data-ad-client=\"ca-pub-0111127737795787\" data-ad-region=\"Search\" data-ad-slot=\"3630670013\" id=\"ad_ins_3\" style=\"display:block\"></ins><script>(adsbygoogle = window.adsbygoogle || []).push({});</script></div><div class=\"ads-banner-end\"><!----></div></div></div><div class=\"search-foot\"><div id=\"share\"><div class=\"button\" id=\"hatebu\"><a class=\"hatena-bookmark-button\" data-hatena-bookmark-lang=\"ja\" data-hatena-bookmark-layout=\"vertical-balloon\" href=\"https://b.hatena.ne.jp/entry/\" rel=\"nofollow\" title=\"このエントリーをはてなブックマークに追加\"><img alt=\"このエントリーをはてなブックマークに追加\" height=\"20\" src=\"https://b.st-hatena.com/images/entry-button/button-only@2x.png\" style=\"border: none;\" width=\"20\"/></a></div><div class=\"button\" id=\"plusone\"><div class=\"g-plusone\" data-callback=\"share_gplusone\" data-href=\"https://twpro.jp/a/18\" data-lang=\"ja\" data-size=\"tall\"></div></div><div class=\"button\" id=\"tweet-button\"><a class=\"twitter-share-button\" data-count=\"vertical\" data-lang=\"ja\" data-url=\"https://twpro.jp/a/18\" href=\"https://twitter.com/share\" rel=\"nofollow\">ツイート</a></div><script>twpro.onload.push(function(){\n",
       " try{\n",
       " $(window).load(function(){\n",
       "   var url = \"https://twpro.jp/a/18\";\n",
       "   window.share_gplusone = function(data){\n",
       "     var type = (data.state == 'on' ? 'share' : 'unshare');\n",
       "     twpro.gaEvent(type, 'gplus', url);\n",
       "   }\n",
       "   twpro.require('https://b.st-hatena.com/js/bookmark_button.js');\n",
       "   if($.support.hrefNormalized){\n",
       "     twpro.require('https://apis.google.com/js/plusone.js');\n",
       "   }else{\n",
       "     $('#plusone').hide();\n",
       "   }\n",
       "   if($.support.htmlSerialize){\n",
       "     twpro.require('https://platform.twitter.com/widgets.js', function(){\n",
       "       twttr.events.bind('tweet', function(ev){\n",
       "         twpro.gaEvent('share', 'twitter', url);\n",
       "       });\n",
       "     });\n",
       "   }else{\n",
       "     $('#tweet-button').hide();\n",
       "   }\n",
       " });\n",
       " }catch(e){twpro.report(e)}\n",
       " })</script><div class=\"button\" id=\"facebook-like\"><script>twpro.onload.push(function(){\n",
       " try{\n",
       " $(window).load(function(){\n",
       "   $('#facebook-like.button').html(twpro.aryToHTML([\n",
       "     ['iframe', {\"src\":\"https://www.facebook.com/plugins/like.php?href=https://twpro.jp/a/18&layout=box_count&show_faces=false&action=like&share=false&colorscheme=light&height=62&width=69\",\"scrolling\":\"no\",\"frameborder\":0,\"style\":\"border:none;overflow:hidden;height:62px;width:69px;\",\"allowTransparency\":\"true\"}]\n",
       "   ]))\n",
       " })\n",
       " }catch(e){twpro.report(e)}\n",
       " })</script></div></div><div class=\"timestamp\" data-time=\"1547906057\">取得時刻: 2019年01月19日 22時54分17秒</div><script>twpro.onload.push(function(){\n",
       " try{\n",
       " var ts = $('.search-foot .timestamp');\n",
       " var time = (new Date(ts.data('time')*1000)).getTime();\n",
       " if((new Date).getTime() - time >= 10*86400*1000){\n",
       "   $.get(location.href + '/expires');\n",
       " }\n",
       " }catch(e){twpro.report(e)}\n",
       " })</script></div><div id=\"body_end\"></div></div></div>,\n",
       " <div id=\"header\"><h1 id=\"logo\"><a class=\"img\" href=\"/\"><img alt=\"ツイプロ\" src=\"/static/images/logo/twpro2_min.png\"/></a><a class=\"title scope\" href=\"/a/18\">18歳版</a></h1><script>twpro.onload.push(function(){\n",
       " try{\n",
       " var target = $('#logo a.title');\n",
       " var base = target.offsetParent();\n",
       " var w0 = null, R = (base.width() + base.offset().left)*(1 - 0.01);\n",
       " var adjust = function(n){\n",
       "   var w = target.width();\n",
       "   var right = target.offset().left + w;\n",
       "   var s = parseInt(target.css('font-size'));\n",
       "   if(w0 == null) w0 = w;\n",
       "   if(right > R){\n",
       "     s -= Math.max(s*0.03, 1);\n",
       "     if(s <= 0 || n == 0) return;\n",
       "     target.css({cssText: 'font-size:' + s + 'px !important'});\n",
       "     adjust(n - 1);\n",
       "   }else if(n < 30){\n",
       "     var t = 'scale(1,' + (w0/w).toFixed(3) + ') !important;';\n",
       "     target.css({'cssText': 'display:inline-block !important;' +\n",
       "       'transform:' + t + '-ms-transform:' + t + '-webkit-transform:' + t +\n",
       "       '-o-transform:' + t + '-moz-transform:' + t +\n",
       "       'font-size:' + twpro.px(s) + ' !important;'});\n",
       "   }\n",
       " };\n",
       " adjust(30);\n",
       " }catch(e){twpro.report(e)}\n",
       " })</script><div class=\"header-end\"><!----></div></div>,\n",
       " <div class=\"header-end\"><!----></div>]"
      ]
     },
     "execution_count": 31,
     "metadata": {},
     "output_type": "execute_result"
    }
   ],
   "source": [
    "div"
   ]
  },
  {
   "cell_type": "code",
   "execution_count": null,
   "metadata": {},
   "outputs": [],
   "source": []
  }
 ],
 "metadata": {
  "kernelspec": {
   "display_name": "Python 3",
   "language": "python",
   "name": "python3"
  },
  "language_info": {
   "codemirror_mode": {
    "name": "ipython",
    "version": 3
   },
   "file_extension": ".py",
   "mimetype": "text/x-python",
   "name": "python",
   "nbconvert_exporter": "python",
   "pygments_lexer": "ipython3",
   "version": "3.5.6"
  }
 },
 "nbformat": 4,
 "nbformat_minor": 2
}
